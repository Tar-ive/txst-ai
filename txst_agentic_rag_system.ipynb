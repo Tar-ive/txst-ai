{
  "nbformat": 4,
  "nbformat_minor": 0,
  "metadata": {
    "colab": {
      "provenance": [],
      "authorship_tag": "ABX9TyNZ4WVssehMytPD5b/2Zmph",
      "include_colab_link": true
    },
    "kernelspec": {
      "name": "python3",
      "display_name": "Python 3"
    },
    "language_info": {
      "name": "python"
    }
  },
  "cells": [
    {
      "cell_type": "markdown",
      "metadata": {
        "id": "view-in-github",
        "colab_type": "text"
      },
      "source": [
        "<a href=\"https://colab.research.google.com/github/Tar-ive/txst-ai/blob/master/txst_agentic_rag_system.ipynb\" target=\"_parent\"><img src=\"https://colab.research.google.com/assets/colab-badge.svg\" alt=\"Open In Colab\"/></a>"
      ]
    },
    {
      "cell_type": "code",
      "execution_count": 1,
      "metadata": {
        "colab": {
          "base_uri": "https://localhost:8080/"
        },
        "id": "Jk8GcoW8kC1c",
        "outputId": "831f1bc3-a0ff-413e-cccd-90e48ee3a5fc"
      },
      "outputs": [
        {
          "output_type": "stream",
          "name": "stdout",
          "text": [
            "Requirement already satisfied: langchain in /usr/local/lib/python3.10/dist-packages (0.3.4)\n",
            "Requirement already satisfied: openai in /usr/local/lib/python3.10/dist-packages (1.52.2)\n",
            "Collecting chromadb\n",
            "  Downloading chromadb-0.5.17-py3-none-any.whl.metadata (6.8 kB)\n",
            "Collecting tiktoken\n",
            "  Downloading tiktoken-0.8.0-cp310-cp310-manylinux_2_17_x86_64.manylinux2014_x86_64.whl.metadata (6.6 kB)\n",
            "Collecting python-dotenv\n",
            "  Downloading python_dotenv-1.0.1-py3-none-any.whl.metadata (23 kB)\n",
            "Collecting bs4\n",
            "  Downloading bs4-0.0.2-py2.py3-none-any.whl.metadata (411 bytes)\n",
            "Requirement already satisfied: PyYAML>=5.3 in /usr/local/lib/python3.10/dist-packages (from langchain) (6.0.2)\n",
            "Requirement already satisfied: SQLAlchemy<3,>=1.4 in /usr/local/lib/python3.10/dist-packages (from langchain) (2.0.36)\n",
            "Requirement already satisfied: aiohttp<4.0.0,>=3.8.3 in /usr/local/lib/python3.10/dist-packages (from langchain) (3.10.10)\n",
            "Requirement already satisfied: async-timeout<5.0.0,>=4.0.0 in /usr/local/lib/python3.10/dist-packages (from langchain) (4.0.3)\n",
            "Requirement already satisfied: langchain-core<0.4.0,>=0.3.12 in /usr/local/lib/python3.10/dist-packages (from langchain) (0.3.13)\n",
            "Requirement already satisfied: langchain-text-splitters<0.4.0,>=0.3.0 in /usr/local/lib/python3.10/dist-packages (from langchain) (0.3.0)\n",
            "Requirement already satisfied: langsmith<0.2.0,>=0.1.17 in /usr/local/lib/python3.10/dist-packages (from langchain) (0.1.137)\n",
            "Requirement already satisfied: numpy<2,>=1 in /usr/local/lib/python3.10/dist-packages (from langchain) (1.26.4)\n",
            "Requirement already satisfied: pydantic<3.0.0,>=2.7.4 in /usr/local/lib/python3.10/dist-packages (from langchain) (2.9.2)\n",
            "Requirement already satisfied: requests<3,>=2 in /usr/local/lib/python3.10/dist-packages (from langchain) (2.32.3)\n",
            "Requirement already satisfied: tenacity!=8.4.0,<10,>=8.1.0 in /usr/local/lib/python3.10/dist-packages (from langchain) (9.0.0)\n",
            "Requirement already satisfied: anyio<5,>=3.5.0 in /usr/local/lib/python3.10/dist-packages (from openai) (3.7.1)\n",
            "Requirement already satisfied: distro<2,>=1.7.0 in /usr/local/lib/python3.10/dist-packages (from openai) (1.9.0)\n",
            "Requirement already satisfied: httpx<1,>=0.23.0 in /usr/local/lib/python3.10/dist-packages (from openai) (0.27.2)\n",
            "Requirement already satisfied: jiter<1,>=0.4.0 in /usr/local/lib/python3.10/dist-packages (from openai) (0.6.1)\n",
            "Requirement already satisfied: sniffio in /usr/local/lib/python3.10/dist-packages (from openai) (1.3.1)\n",
            "Requirement already satisfied: tqdm>4 in /usr/local/lib/python3.10/dist-packages (from openai) (4.66.6)\n",
            "Requirement already satisfied: typing-extensions<5,>=4.11 in /usr/local/lib/python3.10/dist-packages (from openai) (4.12.2)\n",
            "Collecting build>=1.0.3 (from chromadb)\n",
            "  Downloading build-1.2.2.post1-py3-none-any.whl.metadata (6.5 kB)\n",
            "Collecting chroma-hnswlib==0.7.6 (from chromadb)\n",
            "  Downloading chroma_hnswlib-0.7.6-cp310-cp310-manylinux_2_17_x86_64.manylinux2014_x86_64.whl.metadata (252 bytes)\n",
            "Collecting fastapi>=0.95.2 (from chromadb)\n",
            "  Downloading fastapi-0.115.4-py3-none-any.whl.metadata (27 kB)\n",
            "Collecting uvicorn>=0.18.3 (from uvicorn[standard]>=0.18.3->chromadb)\n",
            "  Downloading uvicorn-0.32.0-py3-none-any.whl.metadata (6.6 kB)\n",
            "Collecting posthog>=2.4.0 (from chromadb)\n",
            "  Downloading posthog-3.7.0-py2.py3-none-any.whl.metadata (2.0 kB)\n",
            "Collecting onnxruntime>=1.14.1 (from chromadb)\n",
            "  Downloading onnxruntime-1.20.0-cp310-cp310-manylinux_2_27_x86_64.manylinux_2_28_x86_64.whl.metadata (4.4 kB)\n",
            "Requirement already satisfied: opentelemetry-api>=1.2.0 in /usr/local/lib/python3.10/dist-packages (from chromadb) (1.16.0)\n",
            "Collecting opentelemetry-exporter-otlp-proto-grpc>=1.2.0 (from chromadb)\n",
            "  Downloading opentelemetry_exporter_otlp_proto_grpc-1.27.0-py3-none-any.whl.metadata (2.3 kB)\n",
            "Collecting opentelemetry-instrumentation-fastapi>=0.41b0 (from chromadb)\n",
            "  Downloading opentelemetry_instrumentation_fastapi-0.48b0-py3-none-any.whl.metadata (2.1 kB)\n",
            "Requirement already satisfied: opentelemetry-sdk>=1.2.0 in /usr/local/lib/python3.10/dist-packages (from chromadb) (1.16.0)\n",
            "Requirement already satisfied: tokenizers>=0.13.2 in /usr/local/lib/python3.10/dist-packages (from chromadb) (0.19.1)\n",
            "Collecting pypika>=0.48.9 (from chromadb)\n",
            "  Downloading PyPika-0.48.9.tar.gz (67 kB)\n",
            "\u001b[2K     \u001b[90m━━━━━━━━━━━━━━━━━━━━━━━━━━━━━━━━━━━━━━━━\u001b[0m \u001b[32m67.3/67.3 kB\u001b[0m \u001b[31m3.4 MB/s\u001b[0m eta \u001b[36m0:00:00\u001b[0m\n",
            "\u001b[?25h  Installing build dependencies ... \u001b[?25l\u001b[?25hdone\n",
            "  Getting requirements to build wheel ... \u001b[?25l\u001b[?25hdone\n",
            "  Preparing metadata (pyproject.toml) ... \u001b[?25l\u001b[?25hdone\n",
            "Collecting overrides>=7.3.1 (from chromadb)\n",
            "  Downloading overrides-7.7.0-py3-none-any.whl.metadata (5.8 kB)\n",
            "Requirement already satisfied: importlib-resources in /usr/local/lib/python3.10/dist-packages (from chromadb) (6.4.5)\n",
            "Requirement already satisfied: grpcio>=1.58.0 in /usr/local/lib/python3.10/dist-packages (from chromadb) (1.64.1)\n",
            "Collecting bcrypt>=4.0.1 (from chromadb)\n",
            "  Downloading bcrypt-4.2.0-cp39-abi3-manylinux_2_28_x86_64.whl.metadata (9.6 kB)\n",
            "Requirement already satisfied: typer>=0.9.0 in /usr/local/lib/python3.10/dist-packages (from chromadb) (0.12.5)\n",
            "Collecting kubernetes>=28.1.0 (from chromadb)\n",
            "  Downloading kubernetes-31.0.0-py2.py3-none-any.whl.metadata (1.5 kB)\n",
            "Collecting mmh3>=4.0.1 (from chromadb)\n",
            "  Downloading mmh3-5.0.1-cp310-cp310-manylinux_2_5_x86_64.manylinux1_x86_64.manylinux_2_17_x86_64.manylinux2014_x86_64.whl.metadata (14 kB)\n",
            "Requirement already satisfied: orjson>=3.9.12 in /usr/local/lib/python3.10/dist-packages (from chromadb) (3.10.10)\n",
            "Requirement already satisfied: rich>=10.11.0 in /usr/local/lib/python3.10/dist-packages (from chromadb) (13.9.3)\n",
            "Requirement already satisfied: regex>=2022.1.18 in /usr/local/lib/python3.10/dist-packages (from tiktoken) (2024.9.11)\n",
            "Requirement already satisfied: beautifulsoup4 in /usr/local/lib/python3.10/dist-packages (from bs4) (4.12.3)\n",
            "Requirement already satisfied: aiohappyeyeballs>=2.3.0 in /usr/local/lib/python3.10/dist-packages (from aiohttp<4.0.0,>=3.8.3->langchain) (2.4.3)\n",
            "Requirement already satisfied: aiosignal>=1.1.2 in /usr/local/lib/python3.10/dist-packages (from aiohttp<4.0.0,>=3.8.3->langchain) (1.3.1)\n",
            "Requirement already satisfied: attrs>=17.3.0 in /usr/local/lib/python3.10/dist-packages (from aiohttp<4.0.0,>=3.8.3->langchain) (24.2.0)\n",
            "Requirement already satisfied: frozenlist>=1.1.1 in /usr/local/lib/python3.10/dist-packages (from aiohttp<4.0.0,>=3.8.3->langchain) (1.5.0)\n",
            "Requirement already satisfied: multidict<7.0,>=4.5 in /usr/local/lib/python3.10/dist-packages (from aiohttp<4.0.0,>=3.8.3->langchain) (6.1.0)\n",
            "Requirement already satisfied: yarl<2.0,>=1.12.0 in /usr/local/lib/python3.10/dist-packages (from aiohttp<4.0.0,>=3.8.3->langchain) (1.17.0)\n",
            "Requirement already satisfied: idna>=2.8 in /usr/local/lib/python3.10/dist-packages (from anyio<5,>=3.5.0->openai) (3.10)\n",
            "Requirement already satisfied: exceptiongroup in /usr/local/lib/python3.10/dist-packages (from anyio<5,>=3.5.0->openai) (1.2.2)\n",
            "Requirement already satisfied: packaging>=19.1 in /usr/local/lib/python3.10/dist-packages (from build>=1.0.3->chromadb) (24.1)\n",
            "Collecting pyproject_hooks (from build>=1.0.3->chromadb)\n",
            "  Downloading pyproject_hooks-1.2.0-py3-none-any.whl.metadata (1.3 kB)\n",
            "Requirement already satisfied: tomli>=1.1.0 in /usr/local/lib/python3.10/dist-packages (from build>=1.0.3->chromadb) (2.0.2)\n",
            "Collecting starlette<0.42.0,>=0.40.0 (from fastapi>=0.95.2->chromadb)\n",
            "  Downloading starlette-0.41.2-py3-none-any.whl.metadata (6.0 kB)\n",
            "Requirement already satisfied: certifi in /usr/local/lib/python3.10/dist-packages (from httpx<1,>=0.23.0->openai) (2024.8.30)\n",
            "Requirement already satisfied: httpcore==1.* in /usr/local/lib/python3.10/dist-packages (from httpx<1,>=0.23.0->openai) (1.0.6)\n",
            "Requirement already satisfied: h11<0.15,>=0.13 in /usr/local/lib/python3.10/dist-packages (from httpcore==1.*->httpx<1,>=0.23.0->openai) (0.14.0)\n",
            "Requirement already satisfied: six>=1.9.0 in /usr/local/lib/python3.10/dist-packages (from kubernetes>=28.1.0->chromadb) (1.16.0)\n",
            "Requirement already satisfied: python-dateutil>=2.5.3 in /usr/local/lib/python3.10/dist-packages (from kubernetes>=28.1.0->chromadb) (2.8.2)\n",
            "Requirement already satisfied: google-auth>=1.0.1 in /usr/local/lib/python3.10/dist-packages (from kubernetes>=28.1.0->chromadb) (2.27.0)\n",
            "Requirement already satisfied: websocket-client!=0.40.0,!=0.41.*,!=0.42.*,>=0.32.0 in /usr/local/lib/python3.10/dist-packages (from kubernetes>=28.1.0->chromadb) (1.8.0)\n",
            "Requirement already satisfied: requests-oauthlib in /usr/local/lib/python3.10/dist-packages (from kubernetes>=28.1.0->chromadb) (1.3.1)\n",
            "Requirement already satisfied: oauthlib>=3.2.2 in /usr/local/lib/python3.10/dist-packages (from kubernetes>=28.1.0->chromadb) (3.2.2)\n",
            "Requirement already satisfied: urllib3>=1.24.2 in /usr/local/lib/python3.10/dist-packages (from kubernetes>=28.1.0->chromadb) (2.2.3)\n",
            "Collecting durationpy>=0.7 (from kubernetes>=28.1.0->chromadb)\n",
            "  Downloading durationpy-0.9-py3-none-any.whl.metadata (338 bytes)\n",
            "Requirement already satisfied: jsonpatch<2.0,>=1.33 in /usr/local/lib/python3.10/dist-packages (from langchain-core<0.4.0,>=0.3.12->langchain) (1.33)\n",
            "Requirement already satisfied: requests-toolbelt<2.0.0,>=1.0.0 in /usr/local/lib/python3.10/dist-packages (from langsmith<0.2.0,>=0.1.17->langchain) (1.0.0)\n",
            "Collecting coloredlogs (from onnxruntime>=1.14.1->chromadb)\n",
            "  Downloading coloredlogs-15.0.1-py2.py3-none-any.whl.metadata (12 kB)\n",
            "Requirement already satisfied: flatbuffers in /usr/local/lib/python3.10/dist-packages (from onnxruntime>=1.14.1->chromadb) (24.3.25)\n",
            "Requirement already satisfied: protobuf in /usr/local/lib/python3.10/dist-packages (from onnxruntime>=1.14.1->chromadb) (3.20.3)\n",
            "Requirement already satisfied: sympy in /usr/local/lib/python3.10/dist-packages (from onnxruntime>=1.14.1->chromadb) (1.13.1)\n",
            "Requirement already satisfied: deprecated>=1.2.6 in /usr/local/lib/python3.10/dist-packages (from opentelemetry-api>=1.2.0->chromadb) (1.2.14)\n",
            "Requirement already satisfied: setuptools>=16.0 in /usr/local/lib/python3.10/dist-packages (from opentelemetry-api>=1.2.0->chromadb) (75.1.0)\n",
            "Requirement already satisfied: googleapis-common-protos~=1.52 in /usr/local/lib/python3.10/dist-packages (from opentelemetry-exporter-otlp-proto-grpc>=1.2.0->chromadb) (1.65.0)\n",
            "Collecting opentelemetry-exporter-otlp-proto-common==1.27.0 (from opentelemetry-exporter-otlp-proto-grpc>=1.2.0->chromadb)\n",
            "  Downloading opentelemetry_exporter_otlp_proto_common-1.27.0-py3-none-any.whl.metadata (1.8 kB)\n",
            "Collecting opentelemetry-proto==1.27.0 (from opentelemetry-exporter-otlp-proto-grpc>=1.2.0->chromadb)\n",
            "  Downloading opentelemetry_proto-1.27.0-py3-none-any.whl.metadata (2.3 kB)\n",
            "Collecting opentelemetry-sdk>=1.2.0 (from chromadb)\n",
            "  Downloading opentelemetry_sdk-1.27.0-py3-none-any.whl.metadata (1.5 kB)\n",
            "Collecting opentelemetry-instrumentation-asgi==0.48b0 (from opentelemetry-instrumentation-fastapi>=0.41b0->chromadb)\n",
            "  Downloading opentelemetry_instrumentation_asgi-0.48b0-py3-none-any.whl.metadata (2.0 kB)\n",
            "Collecting opentelemetry-instrumentation==0.48b0 (from opentelemetry-instrumentation-fastapi>=0.41b0->chromadb)\n",
            "  Downloading opentelemetry_instrumentation-0.48b0-py3-none-any.whl.metadata (6.1 kB)\n",
            "Collecting opentelemetry-semantic-conventions==0.48b0 (from opentelemetry-instrumentation-fastapi>=0.41b0->chromadb)\n",
            "  Downloading opentelemetry_semantic_conventions-0.48b0-py3-none-any.whl.metadata (2.4 kB)\n",
            "Collecting opentelemetry-util-http==0.48b0 (from opentelemetry-instrumentation-fastapi>=0.41b0->chromadb)\n",
            "  Downloading opentelemetry_util_http-0.48b0-py3-none-any.whl.metadata (2.5 kB)\n",
            "Requirement already satisfied: wrapt<2.0.0,>=1.0.0 in /usr/local/lib/python3.10/dist-packages (from opentelemetry-instrumentation==0.48b0->opentelemetry-instrumentation-fastapi>=0.41b0->chromadb) (1.16.0)\n",
            "Collecting asgiref~=3.0 (from opentelemetry-instrumentation-asgi==0.48b0->opentelemetry-instrumentation-fastapi>=0.41b0->chromadb)\n",
            "  Downloading asgiref-3.8.1-py3-none-any.whl.metadata (9.3 kB)\n",
            "Collecting opentelemetry-api>=1.2.0 (from chromadb)\n",
            "  Downloading opentelemetry_api-1.27.0-py3-none-any.whl.metadata (1.4 kB)\n",
            "Collecting importlib-metadata<=8.4.0,>=6.0 (from opentelemetry-api>=1.2.0->chromadb)\n",
            "  Downloading importlib_metadata-8.4.0-py3-none-any.whl.metadata (4.7 kB)\n",
            "Collecting monotonic>=1.5 (from posthog>=2.4.0->chromadb)\n",
            "  Downloading monotonic-1.6-py2.py3-none-any.whl.metadata (1.5 kB)\n",
            "Collecting backoff>=1.10.0 (from posthog>=2.4.0->chromadb)\n",
            "  Downloading backoff-2.2.1-py3-none-any.whl.metadata (14 kB)\n",
            "Requirement already satisfied: annotated-types>=0.6.0 in /usr/local/lib/python3.10/dist-packages (from pydantic<3.0.0,>=2.7.4->langchain) (0.7.0)\n",
            "Requirement already satisfied: pydantic-core==2.23.4 in /usr/local/lib/python3.10/dist-packages (from pydantic<3.0.0,>=2.7.4->langchain) (2.23.4)\n",
            "Requirement already satisfied: charset-normalizer<4,>=2 in /usr/local/lib/python3.10/dist-packages (from requests<3,>=2->langchain) (3.4.0)\n",
            "Requirement already satisfied: markdown-it-py>=2.2.0 in /usr/local/lib/python3.10/dist-packages (from rich>=10.11.0->chromadb) (3.0.0)\n",
            "Requirement already satisfied: pygments<3.0.0,>=2.13.0 in /usr/local/lib/python3.10/dist-packages (from rich>=10.11.0->chromadb) (2.18.0)\n",
            "Requirement already satisfied: greenlet!=0.4.17 in /usr/local/lib/python3.10/dist-packages (from SQLAlchemy<3,>=1.4->langchain) (3.1.1)\n",
            "Requirement already satisfied: huggingface-hub<1.0,>=0.16.4 in /usr/local/lib/python3.10/dist-packages (from tokenizers>=0.13.2->chromadb) (0.24.7)\n",
            "Requirement already satisfied: click>=8.0.0 in /usr/local/lib/python3.10/dist-packages (from typer>=0.9.0->chromadb) (8.1.7)\n",
            "Requirement already satisfied: shellingham>=1.3.0 in /usr/local/lib/python3.10/dist-packages (from typer>=0.9.0->chromadb) (1.5.4)\n",
            "Collecting httptools>=0.5.0 (from uvicorn[standard]>=0.18.3->chromadb)\n",
            "  Downloading httptools-0.6.4-cp310-cp310-manylinux_2_5_x86_64.manylinux1_x86_64.manylinux_2_17_x86_64.manylinux2014_x86_64.whl.metadata (3.6 kB)\n",
            "Collecting uvloop!=0.15.0,!=0.15.1,>=0.14.0 (from uvicorn[standard]>=0.18.3->chromadb)\n",
            "  Downloading uvloop-0.21.0-cp310-cp310-manylinux_2_17_x86_64.manylinux2014_x86_64.whl.metadata (4.9 kB)\n",
            "Collecting watchfiles>=0.13 (from uvicorn[standard]>=0.18.3->chromadb)\n",
            "  Downloading watchfiles-0.24.0-cp310-cp310-manylinux_2_17_x86_64.manylinux2014_x86_64.whl.metadata (4.9 kB)\n",
            "Collecting websockets>=10.4 (from uvicorn[standard]>=0.18.3->chromadb)\n",
            "  Downloading websockets-13.1-cp310-cp310-manylinux_2_5_x86_64.manylinux1_x86_64.manylinux_2_17_x86_64.manylinux2014_x86_64.whl.metadata (6.8 kB)\n",
            "Requirement already satisfied: soupsieve>1.2 in /usr/local/lib/python3.10/dist-packages (from beautifulsoup4->bs4) (2.6)\n",
            "Requirement already satisfied: cachetools<6.0,>=2.0.0 in /usr/local/lib/python3.10/dist-packages (from google-auth>=1.0.1->kubernetes>=28.1.0->chromadb) (5.5.0)\n",
            "Requirement already satisfied: pyasn1-modules>=0.2.1 in /usr/local/lib/python3.10/dist-packages (from google-auth>=1.0.1->kubernetes>=28.1.0->chromadb) (0.4.1)\n",
            "Requirement already satisfied: rsa<5,>=3.1.4 in /usr/local/lib/python3.10/dist-packages (from google-auth>=1.0.1->kubernetes>=28.1.0->chromadb) (4.9)\n",
            "Requirement already satisfied: filelock in /usr/local/lib/python3.10/dist-packages (from huggingface-hub<1.0,>=0.16.4->tokenizers>=0.13.2->chromadb) (3.16.1)\n",
            "Requirement already satisfied: fsspec>=2023.5.0 in /usr/local/lib/python3.10/dist-packages (from huggingface-hub<1.0,>=0.16.4->tokenizers>=0.13.2->chromadb) (2024.10.0)\n",
            "Requirement already satisfied: zipp>=0.5 in /usr/local/lib/python3.10/dist-packages (from importlib-metadata<=8.4.0,>=6.0->opentelemetry-api>=1.2.0->chromadb) (3.20.2)\n",
            "Requirement already satisfied: jsonpointer>=1.9 in /usr/local/lib/python3.10/dist-packages (from jsonpatch<2.0,>=1.33->langchain-core<0.4.0,>=0.3.12->langchain) (3.0.0)\n",
            "Requirement already satisfied: mdurl~=0.1 in /usr/local/lib/python3.10/dist-packages (from markdown-it-py>=2.2.0->rich>=10.11.0->chromadb) (0.1.2)\n",
            "Requirement already satisfied: propcache>=0.2.0 in /usr/local/lib/python3.10/dist-packages (from yarl<2.0,>=1.12.0->aiohttp<4.0.0,>=3.8.3->langchain) (0.2.0)\n",
            "Collecting humanfriendly>=9.1 (from coloredlogs->onnxruntime>=1.14.1->chromadb)\n",
            "  Downloading humanfriendly-10.0-py2.py3-none-any.whl.metadata (9.2 kB)\n",
            "Requirement already satisfied: mpmath<1.4,>=1.1.0 in /usr/local/lib/python3.10/dist-packages (from sympy->onnxruntime>=1.14.1->chromadb) (1.3.0)\n",
            "Requirement already satisfied: pyasn1<0.7.0,>=0.4.6 in /usr/local/lib/python3.10/dist-packages (from pyasn1-modules>=0.2.1->google-auth>=1.0.1->kubernetes>=28.1.0->chromadb) (0.6.1)\n",
            "Downloading chromadb-0.5.17-py3-none-any.whl (615 kB)\n",
            "\u001b[2K   \u001b[90m━━━━━━━━━━━━━━━━━━━━━━━━━━━━━━━━━━━━━━━━\u001b[0m \u001b[32m615.7/615.7 kB\u001b[0m \u001b[31m16.8 MB/s\u001b[0m eta \u001b[36m0:00:00\u001b[0m\n",
            "\u001b[?25hDownloading chroma_hnswlib-0.7.6-cp310-cp310-manylinux_2_17_x86_64.manylinux2014_x86_64.whl (2.4 MB)\n",
            "\u001b[2K   \u001b[90m━━━━━━━━━━━━━━━━━━━━━━━━━━━━━━━━━━━━━━━━\u001b[0m \u001b[32m2.4/2.4 MB\u001b[0m \u001b[31m55.9 MB/s\u001b[0m eta \u001b[36m0:00:00\u001b[0m\n",
            "\u001b[?25hDownloading tiktoken-0.8.0-cp310-cp310-manylinux_2_17_x86_64.manylinux2014_x86_64.whl (1.2 MB)\n",
            "\u001b[2K   \u001b[90m━━━━━━━━━━━━━━━━━━━━━━━━━━━━━━━━━━━━━━━━\u001b[0m \u001b[32m1.2/1.2 MB\u001b[0m \u001b[31m24.7 MB/s\u001b[0m eta \u001b[36m0:00:00\u001b[0m\n",
            "\u001b[?25hDownloading python_dotenv-1.0.1-py3-none-any.whl (19 kB)\n",
            "Downloading bs4-0.0.2-py2.py3-none-any.whl (1.2 kB)\n",
            "Downloading bcrypt-4.2.0-cp39-abi3-manylinux_2_28_x86_64.whl (273 kB)\n",
            "\u001b[2K   \u001b[90m━━━━━━━━━━━━━━━━━━━━━━━━━━━━━━━━━━━━━━━━\u001b[0m \u001b[32m273.8/273.8 kB\u001b[0m \u001b[31m19.2 MB/s\u001b[0m eta \u001b[36m0:00:00\u001b[0m\n",
            "\u001b[?25hDownloading build-1.2.2.post1-py3-none-any.whl (22 kB)\n",
            "Downloading fastapi-0.115.4-py3-none-any.whl (94 kB)\n",
            "\u001b[2K   \u001b[90m━━━━━━━━━━━━━━━━━━━━━━━━━━━━━━━━━━━━━━━━\u001b[0m \u001b[32m94.7/94.7 kB\u001b[0m \u001b[31m8.1 MB/s\u001b[0m eta \u001b[36m0:00:00\u001b[0m\n",
            "\u001b[?25hDownloading kubernetes-31.0.0-py2.py3-none-any.whl (1.9 MB)\n",
            "\u001b[2K   \u001b[90m━━━━━━━━━━━━━━━━━━━━━━━━━━━━━━━━━━━━━━━━\u001b[0m \u001b[32m1.9/1.9 MB\u001b[0m \u001b[31m56.6 MB/s\u001b[0m eta \u001b[36m0:00:00\u001b[0m\n",
            "\u001b[?25hDownloading mmh3-5.0.1-cp310-cp310-manylinux_2_5_x86_64.manylinux1_x86_64.manylinux_2_17_x86_64.manylinux2014_x86_64.whl (93 kB)\n",
            "\u001b[2K   \u001b[90m━━━━━━━━━━━━━━━━━━━━━━━━━━━━━━━━━━━━━━━━\u001b[0m \u001b[32m93.2/93.2 kB\u001b[0m \u001b[31m7.5 MB/s\u001b[0m eta \u001b[36m0:00:00\u001b[0m\n",
            "\u001b[?25hDownloading onnxruntime-1.20.0-cp310-cp310-manylinux_2_27_x86_64.manylinux_2_28_x86_64.whl (13.3 MB)\n",
            "\u001b[2K   \u001b[90m━━━━━━━━━━━━━━━━━━━━━━━━━━━━━━━━━━━━━━━━\u001b[0m \u001b[32m13.3/13.3 MB\u001b[0m \u001b[31m44.4 MB/s\u001b[0m eta \u001b[36m0:00:00\u001b[0m\n",
            "\u001b[?25hDownloading opentelemetry_exporter_otlp_proto_grpc-1.27.0-py3-none-any.whl (18 kB)\n",
            "Downloading opentelemetry_exporter_otlp_proto_common-1.27.0-py3-none-any.whl (17 kB)\n",
            "Downloading opentelemetry_proto-1.27.0-py3-none-any.whl (52 kB)\n",
            "\u001b[2K   \u001b[90m━━━━━━━━━━━━━━━━━━━━━━━━━━━━━━━━━━━━━━━━\u001b[0m \u001b[32m52.5/52.5 kB\u001b[0m \u001b[31m2.4 MB/s\u001b[0m eta \u001b[36m0:00:00\u001b[0m\n",
            "\u001b[?25hDownloading opentelemetry_instrumentation_fastapi-0.48b0-py3-none-any.whl (11 kB)\n",
            "Downloading opentelemetry_instrumentation-0.48b0-py3-none-any.whl (29 kB)\n",
            "Downloading opentelemetry_instrumentation_asgi-0.48b0-py3-none-any.whl (15 kB)\n",
            "Downloading opentelemetry_semantic_conventions-0.48b0-py3-none-any.whl (149 kB)\n",
            "\u001b[2K   \u001b[90m━━━━━━━━━━━━━━━━━━━━━━━━━━━━━━━━━━━━━━━━\u001b[0m \u001b[32m149.7/149.7 kB\u001b[0m \u001b[31m11.3 MB/s\u001b[0m eta \u001b[36m0:00:00\u001b[0m\n",
            "\u001b[?25hDownloading opentelemetry_api-1.27.0-py3-none-any.whl (63 kB)\n",
            "\u001b[2K   \u001b[90m━━━━━━━━━━━━━━━━━━━━━━━━━━━━━━━━━━━━━━━━\u001b[0m \u001b[32m64.0/64.0 kB\u001b[0m \u001b[31m3.2 MB/s\u001b[0m eta \u001b[36m0:00:00\u001b[0m\n",
            "\u001b[?25hDownloading opentelemetry_util_http-0.48b0-py3-none-any.whl (6.9 kB)\n",
            "Downloading opentelemetry_sdk-1.27.0-py3-none-any.whl (110 kB)\n",
            "\u001b[2K   \u001b[90m━━━━━━━━━━━━━━━━━━━━━━━━━━━━━━━━━━━━━━━━\u001b[0m \u001b[32m110.5/110.5 kB\u001b[0m \u001b[31m4.3 MB/s\u001b[0m eta \u001b[36m0:00:00\u001b[0m\n",
            "\u001b[?25hDownloading overrides-7.7.0-py3-none-any.whl (17 kB)\n",
            "Downloading posthog-3.7.0-py2.py3-none-any.whl (54 kB)\n",
            "\u001b[2K   \u001b[90m━━━━━━━━━━━━━━━━━━━━━━━━━━━━━━━━━━━━━━━━\u001b[0m \u001b[32m54.4/54.4 kB\u001b[0m \u001b[31m3.7 MB/s\u001b[0m eta \u001b[36m0:00:00\u001b[0m\n",
            "\u001b[?25hDownloading uvicorn-0.32.0-py3-none-any.whl (63 kB)\n",
            "\u001b[2K   \u001b[90m━━━━━━━━━━━━━━━━━━━━━━━━━━━━━━━━━━━━━━━━\u001b[0m \u001b[32m63.7/63.7 kB\u001b[0m \u001b[31m3.2 MB/s\u001b[0m eta \u001b[36m0:00:00\u001b[0m\n",
            "\u001b[?25hDownloading backoff-2.2.1-py3-none-any.whl (15 kB)\n",
            "Downloading durationpy-0.9-py3-none-any.whl (3.5 kB)\n",
            "Downloading httptools-0.6.4-cp310-cp310-manylinux_2_5_x86_64.manylinux1_x86_64.manylinux_2_17_x86_64.manylinux2014_x86_64.whl (442 kB)\n",
            "\u001b[2K   \u001b[90m━━━━━━━━━━━━━━━━━━━━━━━━━━━━━━━━━━━━━━━━\u001b[0m \u001b[32m442.1/442.1 kB\u001b[0m \u001b[31m26.1 MB/s\u001b[0m eta \u001b[36m0:00:00\u001b[0m\n",
            "\u001b[?25hDownloading importlib_metadata-8.4.0-py3-none-any.whl (26 kB)\n",
            "Downloading monotonic-1.6-py2.py3-none-any.whl (8.2 kB)\n",
            "Downloading starlette-0.41.2-py3-none-any.whl (73 kB)\n",
            "\u001b[2K   \u001b[90m━━━━━━━━━━━━━━━━━━━━━━━━━━━━━━━━━━━━━━━━\u001b[0m \u001b[32m73.3/73.3 kB\u001b[0m \u001b[31m5.5 MB/s\u001b[0m eta \u001b[36m0:00:00\u001b[0m\n",
            "\u001b[?25hDownloading uvloop-0.21.0-cp310-cp310-manylinux_2_17_x86_64.manylinux2014_x86_64.whl (3.8 MB)\n",
            "\u001b[2K   \u001b[90m━━━━━━━━━━━━━━━━━━━━━━━━━━━━━━━━━━━━━━━━\u001b[0m \u001b[32m3.8/3.8 MB\u001b[0m \u001b[31m57.7 MB/s\u001b[0m eta \u001b[36m0:00:00\u001b[0m\n",
            "\u001b[?25hDownloading watchfiles-0.24.0-cp310-cp310-manylinux_2_17_x86_64.manylinux2014_x86_64.whl (425 kB)\n",
            "\u001b[2K   \u001b[90m━━━━━━━━━━━━━━━━━━━━━━━━━━━━━━━━━━━━━━━━\u001b[0m \u001b[32m425.7/425.7 kB\u001b[0m \u001b[31m16.6 MB/s\u001b[0m eta \u001b[36m0:00:00\u001b[0m\n",
            "\u001b[?25hDownloading websockets-13.1-cp310-cp310-manylinux_2_5_x86_64.manylinux1_x86_64.manylinux_2_17_x86_64.manylinux2014_x86_64.whl (164 kB)\n",
            "\u001b[2K   \u001b[90m━━━━━━━━━━━━━━━━━━━━━━━━━━━━━━━━━━━━━━━━\u001b[0m \u001b[32m164.1/164.1 kB\u001b[0m \u001b[31m12.6 MB/s\u001b[0m eta \u001b[36m0:00:00\u001b[0m\n",
            "\u001b[?25hDownloading coloredlogs-15.0.1-py2.py3-none-any.whl (46 kB)\n",
            "\u001b[2K   \u001b[90m━━━━━━━━━━━━━━━━━━━━━━━━━━━━━━━━━━━━━━━━\u001b[0m \u001b[32m46.0/46.0 kB\u001b[0m \u001b[31m3.3 MB/s\u001b[0m eta \u001b[36m0:00:00\u001b[0m\n",
            "\u001b[?25hDownloading pyproject_hooks-1.2.0-py3-none-any.whl (10 kB)\n",
            "Downloading asgiref-3.8.1-py3-none-any.whl (23 kB)\n",
            "Downloading humanfriendly-10.0-py2.py3-none-any.whl (86 kB)\n",
            "\u001b[2K   \u001b[90m━━━━━━━━━━━━━━━━━━━━━━━━━━━━━━━━━━━━━━━━\u001b[0m \u001b[32m86.8/86.8 kB\u001b[0m \u001b[31m5.4 MB/s\u001b[0m eta \u001b[36m0:00:00\u001b[0m\n",
            "\u001b[?25hBuilding wheels for collected packages: pypika\n",
            "  Building wheel for pypika (pyproject.toml) ... \u001b[?25l\u001b[?25hdone\n",
            "  Created wheel for pypika: filename=PyPika-0.48.9-py2.py3-none-any.whl size=53725 sha256=f37e63b02545ca812c9b6fd45dbb3ab1d9d2862bbf698cc21130cbe50665778f\n",
            "  Stored in directory: /root/.cache/pip/wheels/e1/26/51/d0bffb3d2fd82256676d7ad3003faea3bd6dddc9577af665f4\n",
            "Successfully built pypika\n",
            "Installing collected packages: pypika, monotonic, durationpy, websockets, uvloop, uvicorn, python-dotenv, pyproject_hooks, overrides, opentelemetry-util-http, opentelemetry-proto, mmh3, importlib-metadata, humanfriendly, httptools, chroma-hnswlib, bcrypt, backoff, asgiref, watchfiles, tiktoken, starlette, posthog, opentelemetry-exporter-otlp-proto-common, opentelemetry-api, coloredlogs, build, bs4, opentelemetry-semantic-conventions, opentelemetry-instrumentation, onnxruntime, kubernetes, fastapi, opentelemetry-sdk, opentelemetry-instrumentation-asgi, opentelemetry-instrumentation-fastapi, opentelemetry-exporter-otlp-proto-grpc, chromadb\n",
            "  Attempting uninstall: importlib-metadata\n",
            "    Found existing installation: importlib_metadata 8.5.0\n",
            "    Uninstalling importlib_metadata-8.5.0:\n",
            "      Successfully uninstalled importlib_metadata-8.5.0\n",
            "  Attempting uninstall: opentelemetry-api\n",
            "    Found existing installation: opentelemetry-api 1.16.0\n",
            "    Uninstalling opentelemetry-api-1.16.0:\n",
            "      Successfully uninstalled opentelemetry-api-1.16.0\n",
            "  Attempting uninstall: opentelemetry-semantic-conventions\n",
            "    Found existing installation: opentelemetry-semantic-conventions 0.37b0\n",
            "    Uninstalling opentelemetry-semantic-conventions-0.37b0:\n",
            "      Successfully uninstalled opentelemetry-semantic-conventions-0.37b0\n",
            "  Attempting uninstall: opentelemetry-sdk\n",
            "    Found existing installation: opentelemetry-sdk 1.16.0\n",
            "    Uninstalling opentelemetry-sdk-1.16.0:\n",
            "      Successfully uninstalled opentelemetry-sdk-1.16.0\n",
            "Successfully installed asgiref-3.8.1 backoff-2.2.1 bcrypt-4.2.0 bs4-0.0.2 build-1.2.2.post1 chroma-hnswlib-0.7.6 chromadb-0.5.17 coloredlogs-15.0.1 durationpy-0.9 fastapi-0.115.4 httptools-0.6.4 humanfriendly-10.0 importlib-metadata-8.4.0 kubernetes-31.0.0 mmh3-5.0.1 monotonic-1.6 onnxruntime-1.20.0 opentelemetry-api-1.27.0 opentelemetry-exporter-otlp-proto-common-1.27.0 opentelemetry-exporter-otlp-proto-grpc-1.27.0 opentelemetry-instrumentation-0.48b0 opentelemetry-instrumentation-asgi-0.48b0 opentelemetry-instrumentation-fastapi-0.48b0 opentelemetry-proto-1.27.0 opentelemetry-sdk-1.27.0 opentelemetry-semantic-conventions-0.48b0 opentelemetry-util-http-0.48b0 overrides-7.7.0 posthog-3.7.0 pypika-0.48.9 pyproject_hooks-1.2.0 python-dotenv-1.0.1 starlette-0.41.2 tiktoken-0.8.0 uvicorn-0.32.0 uvloop-0.21.0 watchfiles-0.24.0 websockets-13.1\n"
          ]
        }
      ],
      "source": [
        "!pip install langchain openai chromadb tiktoken python-dotenv bs4\n"
      ]
    },
    {
      "cell_type": "code",
      "source": [
        "!pip install langchain_community"
      ],
      "metadata": {
        "colab": {
          "base_uri": "https://localhost:8080/"
        },
        "id": "XyL8vje7kUUb",
        "outputId": "e1ab9d7f-7f46-48e7-9120-ec2afd9cff8c"
      },
      "execution_count": 4,
      "outputs": [
        {
          "output_type": "stream",
          "name": "stdout",
          "text": [
            "Collecting langchain_community\n",
            "  Downloading langchain_community-0.3.5-py3-none-any.whl.metadata (2.9 kB)\n",
            "Requirement already satisfied: PyYAML>=5.3 in /usr/local/lib/python3.10/dist-packages (from langchain_community) (6.0.2)\n",
            "Collecting SQLAlchemy<2.0.36,>=1.4 (from langchain_community)\n",
            "  Downloading SQLAlchemy-2.0.35-cp310-cp310-manylinux_2_17_x86_64.manylinux2014_x86_64.whl.metadata (9.6 kB)\n",
            "Requirement already satisfied: aiohttp<4.0.0,>=3.8.3 in /usr/local/lib/python3.10/dist-packages (from langchain_community) (3.10.10)\n",
            "Collecting dataclasses-json<0.7,>=0.5.7 (from langchain_community)\n",
            "  Downloading dataclasses_json-0.6.7-py3-none-any.whl.metadata (25 kB)\n",
            "Collecting httpx-sse<0.5.0,>=0.4.0 (from langchain_community)\n",
            "  Downloading httpx_sse-0.4.0-py3-none-any.whl.metadata (9.0 kB)\n",
            "Collecting langchain<0.4.0,>=0.3.6 (from langchain_community)\n",
            "  Downloading langchain-0.3.7-py3-none-any.whl.metadata (7.1 kB)\n",
            "Collecting langchain-core<0.4.0,>=0.3.15 (from langchain_community)\n",
            "  Downloading langchain_core-0.3.15-py3-none-any.whl.metadata (6.3 kB)\n",
            "Requirement already satisfied: langsmith<0.2.0,>=0.1.125 in /usr/local/lib/python3.10/dist-packages (from langchain_community) (0.1.137)\n",
            "Requirement already satisfied: numpy<2,>=1 in /usr/local/lib/python3.10/dist-packages (from langchain_community) (1.26.4)\n",
            "Collecting pydantic-settings<3.0.0,>=2.4.0 (from langchain_community)\n",
            "  Downloading pydantic_settings-2.6.1-py3-none-any.whl.metadata (3.5 kB)\n",
            "Requirement already satisfied: requests<3,>=2 in /usr/local/lib/python3.10/dist-packages (from langchain_community) (2.32.3)\n",
            "Requirement already satisfied: tenacity!=8.4.0,<10,>=8.1.0 in /usr/local/lib/python3.10/dist-packages (from langchain_community) (9.0.0)\n",
            "Requirement already satisfied: aiohappyeyeballs>=2.3.0 in /usr/local/lib/python3.10/dist-packages (from aiohttp<4.0.0,>=3.8.3->langchain_community) (2.4.3)\n",
            "Requirement already satisfied: aiosignal>=1.1.2 in /usr/local/lib/python3.10/dist-packages (from aiohttp<4.0.0,>=3.8.3->langchain_community) (1.3.1)\n",
            "Requirement already satisfied: attrs>=17.3.0 in /usr/local/lib/python3.10/dist-packages (from aiohttp<4.0.0,>=3.8.3->langchain_community) (24.2.0)\n",
            "Requirement already satisfied: frozenlist>=1.1.1 in /usr/local/lib/python3.10/dist-packages (from aiohttp<4.0.0,>=3.8.3->langchain_community) (1.5.0)\n",
            "Requirement already satisfied: multidict<7.0,>=4.5 in /usr/local/lib/python3.10/dist-packages (from aiohttp<4.0.0,>=3.8.3->langchain_community) (6.1.0)\n",
            "Requirement already satisfied: yarl<2.0,>=1.12.0 in /usr/local/lib/python3.10/dist-packages (from aiohttp<4.0.0,>=3.8.3->langchain_community) (1.17.0)\n",
            "Requirement already satisfied: async-timeout<5.0,>=4.0 in /usr/local/lib/python3.10/dist-packages (from aiohttp<4.0.0,>=3.8.3->langchain_community) (4.0.3)\n",
            "Collecting marshmallow<4.0.0,>=3.18.0 (from dataclasses-json<0.7,>=0.5.7->langchain_community)\n",
            "  Downloading marshmallow-3.23.1-py3-none-any.whl.metadata (7.5 kB)\n",
            "Collecting typing-inspect<1,>=0.4.0 (from dataclasses-json<0.7,>=0.5.7->langchain_community)\n",
            "  Downloading typing_inspect-0.9.0-py3-none-any.whl.metadata (1.5 kB)\n",
            "Requirement already satisfied: langchain-text-splitters<0.4.0,>=0.3.0 in /usr/local/lib/python3.10/dist-packages (from langchain<0.4.0,>=0.3.6->langchain_community) (0.3.0)\n",
            "Requirement already satisfied: pydantic<3.0.0,>=2.7.4 in /usr/local/lib/python3.10/dist-packages (from langchain<0.4.0,>=0.3.6->langchain_community) (2.9.2)\n",
            "Requirement already satisfied: jsonpatch<2.0,>=1.33 in /usr/local/lib/python3.10/dist-packages (from langchain-core<0.4.0,>=0.3.15->langchain_community) (1.33)\n",
            "Requirement already satisfied: packaging<25,>=23.2 in /usr/local/lib/python3.10/dist-packages (from langchain-core<0.4.0,>=0.3.15->langchain_community) (24.1)\n",
            "Requirement already satisfied: typing-extensions>=4.7 in /usr/local/lib/python3.10/dist-packages (from langchain-core<0.4.0,>=0.3.15->langchain_community) (4.12.2)\n",
            "Requirement already satisfied: httpx<1,>=0.23.0 in /usr/local/lib/python3.10/dist-packages (from langsmith<0.2.0,>=0.1.125->langchain_community) (0.27.2)\n",
            "Requirement already satisfied: orjson<4.0.0,>=3.9.14 in /usr/local/lib/python3.10/dist-packages (from langsmith<0.2.0,>=0.1.125->langchain_community) (3.10.10)\n",
            "Requirement already satisfied: requests-toolbelt<2.0.0,>=1.0.0 in /usr/local/lib/python3.10/dist-packages (from langsmith<0.2.0,>=0.1.125->langchain_community) (1.0.0)\n",
            "Requirement already satisfied: python-dotenv>=0.21.0 in /usr/local/lib/python3.10/dist-packages (from pydantic-settings<3.0.0,>=2.4.0->langchain_community) (1.0.1)\n",
            "Requirement already satisfied: charset-normalizer<4,>=2 in /usr/local/lib/python3.10/dist-packages (from requests<3,>=2->langchain_community) (3.4.0)\n",
            "Requirement already satisfied: idna<4,>=2.5 in /usr/local/lib/python3.10/dist-packages (from requests<3,>=2->langchain_community) (3.10)\n",
            "Requirement already satisfied: urllib3<3,>=1.21.1 in /usr/local/lib/python3.10/dist-packages (from requests<3,>=2->langchain_community) (2.2.3)\n",
            "Requirement already satisfied: certifi>=2017.4.17 in /usr/local/lib/python3.10/dist-packages (from requests<3,>=2->langchain_community) (2024.8.30)\n",
            "Requirement already satisfied: greenlet!=0.4.17 in /usr/local/lib/python3.10/dist-packages (from SQLAlchemy<2.0.36,>=1.4->langchain_community) (3.1.1)\n",
            "Requirement already satisfied: anyio in /usr/local/lib/python3.10/dist-packages (from httpx<1,>=0.23.0->langsmith<0.2.0,>=0.1.125->langchain_community) (3.7.1)\n",
            "Requirement already satisfied: httpcore==1.* in /usr/local/lib/python3.10/dist-packages (from httpx<1,>=0.23.0->langsmith<0.2.0,>=0.1.125->langchain_community) (1.0.6)\n",
            "Requirement already satisfied: sniffio in /usr/local/lib/python3.10/dist-packages (from httpx<1,>=0.23.0->langsmith<0.2.0,>=0.1.125->langchain_community) (1.3.1)\n",
            "Requirement already satisfied: h11<0.15,>=0.13 in /usr/local/lib/python3.10/dist-packages (from httpcore==1.*->httpx<1,>=0.23.0->langsmith<0.2.0,>=0.1.125->langchain_community) (0.14.0)\n",
            "Requirement already satisfied: jsonpointer>=1.9 in /usr/local/lib/python3.10/dist-packages (from jsonpatch<2.0,>=1.33->langchain-core<0.4.0,>=0.3.15->langchain_community) (3.0.0)\n",
            "Requirement already satisfied: annotated-types>=0.6.0 in /usr/local/lib/python3.10/dist-packages (from pydantic<3.0.0,>=2.7.4->langchain<0.4.0,>=0.3.6->langchain_community) (0.7.0)\n",
            "Requirement already satisfied: pydantic-core==2.23.4 in /usr/local/lib/python3.10/dist-packages (from pydantic<3.0.0,>=2.7.4->langchain<0.4.0,>=0.3.6->langchain_community) (2.23.4)\n",
            "Collecting mypy-extensions>=0.3.0 (from typing-inspect<1,>=0.4.0->dataclasses-json<0.7,>=0.5.7->langchain_community)\n",
            "  Downloading mypy_extensions-1.0.0-py3-none-any.whl.metadata (1.1 kB)\n",
            "Requirement already satisfied: propcache>=0.2.0 in /usr/local/lib/python3.10/dist-packages (from yarl<2.0,>=1.12.0->aiohttp<4.0.0,>=3.8.3->langchain_community) (0.2.0)\n",
            "Requirement already satisfied: exceptiongroup in /usr/local/lib/python3.10/dist-packages (from anyio->httpx<1,>=0.23.0->langsmith<0.2.0,>=0.1.125->langchain_community) (1.2.2)\n",
            "Downloading langchain_community-0.3.5-py3-none-any.whl (2.4 MB)\n",
            "\u001b[2K   \u001b[90m━━━━━━━━━━━━━━━━━━━━━━━━━━━━━━━━━━━━━━━━\u001b[0m \u001b[32m2.4/2.4 MB\u001b[0m \u001b[31m30.1 MB/s\u001b[0m eta \u001b[36m0:00:00\u001b[0m\n",
            "\u001b[?25hDownloading dataclasses_json-0.6.7-py3-none-any.whl (28 kB)\n",
            "Downloading httpx_sse-0.4.0-py3-none-any.whl (7.8 kB)\n",
            "Downloading langchain-0.3.7-py3-none-any.whl (1.0 MB)\n",
            "\u001b[2K   \u001b[90m━━━━━━━━━━━━━━━━━━━━━━━━━━━━━━━━━━━━━━━━\u001b[0m \u001b[32m1.0/1.0 MB\u001b[0m \u001b[31m48.7 MB/s\u001b[0m eta \u001b[36m0:00:00\u001b[0m\n",
            "\u001b[?25hDownloading langchain_core-0.3.15-py3-none-any.whl (408 kB)\n",
            "\u001b[2K   \u001b[90m━━━━━━━━━━━━━━━━━━━━━━━━━━━━━━━━━━━━━━━━\u001b[0m \u001b[32m408.7/408.7 kB\u001b[0m \u001b[31m28.2 MB/s\u001b[0m eta \u001b[36m0:00:00\u001b[0m\n",
            "\u001b[?25hDownloading pydantic_settings-2.6.1-py3-none-any.whl (28 kB)\n",
            "Downloading SQLAlchemy-2.0.35-cp310-cp310-manylinux_2_17_x86_64.manylinux2014_x86_64.whl (3.1 MB)\n",
            "\u001b[2K   \u001b[90m━━━━━━━━━━━━━━━━━━━━━━━━━━━━━━━━━━━━━━━━\u001b[0m \u001b[32m3.1/3.1 MB\u001b[0m \u001b[31m69.5 MB/s\u001b[0m eta \u001b[36m0:00:00\u001b[0m\n",
            "\u001b[?25hDownloading marshmallow-3.23.1-py3-none-any.whl (49 kB)\n",
            "\u001b[2K   \u001b[90m━━━━━━━━━━━━━━━━━━━━━━━━━━━━━━━━━━━━━━━━\u001b[0m \u001b[32m49.5/49.5 kB\u001b[0m \u001b[31m3.5 MB/s\u001b[0m eta \u001b[36m0:00:00\u001b[0m\n",
            "\u001b[?25hDownloading typing_inspect-0.9.0-py3-none-any.whl (8.8 kB)\n",
            "Downloading mypy_extensions-1.0.0-py3-none-any.whl (4.7 kB)\n",
            "Installing collected packages: SQLAlchemy, mypy-extensions, marshmallow, httpx-sse, typing-inspect, pydantic-settings, dataclasses-json, langchain-core, langchain, langchain_community\n",
            "  Attempting uninstall: SQLAlchemy\n",
            "    Found existing installation: SQLAlchemy 2.0.36\n",
            "    Uninstalling SQLAlchemy-2.0.36:\n",
            "      Successfully uninstalled SQLAlchemy-2.0.36\n",
            "  Attempting uninstall: langchain-core\n",
            "    Found existing installation: langchain-core 0.3.13\n",
            "    Uninstalling langchain-core-0.3.13:\n",
            "      Successfully uninstalled langchain-core-0.3.13\n",
            "  Attempting uninstall: langchain\n",
            "    Found existing installation: langchain 0.3.4\n",
            "    Uninstalling langchain-0.3.4:\n",
            "      Successfully uninstalled langchain-0.3.4\n",
            "Successfully installed SQLAlchemy-2.0.35 dataclasses-json-0.6.7 httpx-sse-0.4.0 langchain-0.3.7 langchain-core-0.3.15 langchain_community-0.3.5 marshmallow-3.23.1 mypy-extensions-1.0.0 pydantic-settings-2.6.1 typing-inspect-0.9.0\n"
          ]
        }
      ]
    },
    {
      "cell_type": "code",
      "source": [
        "import os\n",
        "from dotenv import load_dotenv\n",
        "import openai\n",
        "\n",
        "from langchain import OpenAI, LLMChain, PromptTemplate\n",
        "from langchain.agents import AgentExecutor, Tool, initialize_agent\n",
        "from langchain.agents import AgentType\n",
        "from langchain.tools import tool\n",
        "from langchain.vectorstores import Chroma\n",
        "from langchain.embeddings.openai import OpenAIEmbeddings\n",
        "from langchain.document_loaders import WebBaseLoader\n",
        "from langchain.text_splitter import RecursiveCharacterTextSplitter\n",
        "from langchain.memory import ConversationBufferMemory\n",
        "\n",
        "from bs4 import BeautifulSoup\n"
      ],
      "metadata": {
        "colab": {
          "base_uri": "https://localhost:8080/"
        },
        "id": "sYGoD_1lkKIb",
        "outputId": "1a8cb12b-b258-4779-f986-47dfcf32b35d"
      },
      "execution_count": 5,
      "outputs": [
        {
          "output_type": "stream",
          "name": "stderr",
          "text": [
            "WARNING:langchain_community.utils.user_agent:USER_AGENT environment variable not set, consider setting it to identify your requests.\n"
          ]
        }
      ]
    },
    {
      "cell_type": "code",
      "source": [
        "from google.colab import userdata\n",
        "userdata.get('OPENAI_API_KEY')\n",
        "\n",
        "OPENAI_API_KEY = userdata.get('OPENAI_API_KEY')"
      ],
      "metadata": {
        "id": "Zd68StfKkaOn"
      },
      "execution_count": 6,
      "outputs": []
    },
    {
      "cell_type": "code",
      "source": [
        "openai_api_key = userdata.get('OPENAI_API_KEY')\n",
        "if not openai_api_key:\n",
        "    raise ValueError(\"OpenAI API key not found in environment variables.\")"
      ],
      "metadata": {
        "id": "HG3WWrgWkvJn"
      },
      "execution_count": 10,
      "outputs": []
    },
    {
      "cell_type": "code",
      "source": [
        "%pip install -qU langchain-openai\n",
        "\n"
      ],
      "metadata": {
        "colab": {
          "base_uri": "https://localhost:8080/"
        },
        "id": "0fdmBVTYljnP",
        "outputId": "18d4ae7d-83c9-4d8d-b523-820d8f896b37"
      },
      "execution_count": 15,
      "outputs": [
        {
          "output_type": "stream",
          "name": "stdout",
          "text": [
            "\u001b[?25l   \u001b[90m━━━━━━━━━━━━━━━━━━━━━━━━━━━━━━━━━━━━━━━━\u001b[0m \u001b[32m0.0/50.4 kB\u001b[0m \u001b[31m?\u001b[0m eta \u001b[36m-:--:--\u001b[0m\r\u001b[2K   \u001b[90m━━━━━━━━━━━━━━━━━━━━━━━━━━━━━━━━━━━━━━━━\u001b[0m \u001b[32m50.4/50.4 kB\u001b[0m \u001b[31m2.3 MB/s\u001b[0m eta \u001b[36m0:00:00\u001b[0m\n",
            "\u001b[?25h"
          ]
        }
      ]
    },
    {
      "cell_type": "code",
      "source": [
        "from langchain_openai import OpenAI\n",
        "from langchain.chat_models import ChatOpenAI # Import the ChatOpenAI class from langchain.chat_models\n",
        "\n",
        "\n",
        "openai_api_key = userdata.get('OPENAI_API_KEY')\n",
        "\n",
        "# Check if the API key is valid\n",
        "if not openai_api_key:\n",
        "    raise ValueError(\"OpenAI API key not found in userdata.\")\n",
        "\n",
        "# Initialize the OpenAI LLM with the API key\n",
        "llm = ChatOpenAI(\n",
        "    # Pass the api_key directly to the OpenAI class\n",
        "    openai_api_key=openai_api_key,\n",
        "    model_name=\"gpt-4o-mini\", #Changed to the correct name for gpt-4-turbo\n",
        "    temperature=0,  # Set to 0 for deterministic outputs\n",
        ")"
      ],
      "metadata": {
        "colab": {
          "base_uri": "https://localhost:8080/"
        },
        "id": "0uoUvlV6kmrF",
        "outputId": "029dda44-2c24-46ee-a24b-3fe075621110"
      },
      "execution_count": 22,
      "outputs": [
        {
          "output_type": "stream",
          "name": "stderr",
          "text": [
            "<ipython-input-22-bd0164c0523d>:12: LangChainDeprecationWarning: The class `ChatOpenAI` was deprecated in LangChain 0.0.10 and will be removed in 1.0. An updated version of the class exists in the :class:`~langchain-openai package and should be used instead. To use it run `pip install -U :class:`~langchain-openai` and import as `from :class:`~langchain_openai import ChatOpenAI``.\n",
            "  llm = ChatOpenAI(\n"
          ]
        }
      ]
    },
    {
      "cell_type": "code",
      "source": [
        "template = \"Answer the following question as accurately as possible. If you do not know the answer, simply say you do not know.\\n\\nQuestion: {query}\\nAnswer:\"\n",
        "prompt = PromptTemplate(template=template, input_variables=[\"query\"])\n"
      ],
      "metadata": {
        "id": "s-q-Ajgjkssj"
      },
      "execution_count": 23,
      "outputs": []
    },
    {
      "cell_type": "code",
      "source": [
        "chain = LLMChain(llm=llm, prompt=prompt)\n"
      ],
      "metadata": {
        "id": "dJpvaTbulvqq"
      },
      "execution_count": 24,
      "outputs": []
    },
    {
      "cell_type": "code",
      "source": [
        "response = chain.run({\"query\": \"What sport is played at the US Open?\"})\n",
        "print(response)\n"
      ],
      "metadata": {
        "colab": {
          "base_uri": "https://localhost:8080/"
        },
        "id": "xgPsAv-9lwJI",
        "outputId": "a054c281-a77c-4740-e8bd-d52bbc701435"
      },
      "execution_count": 25,
      "outputs": [
        {
          "output_type": "stream",
          "name": "stdout",
          "text": [
            "The sport played at the US Open is tennis.\n"
          ]
        }
      ]
    },
    {
      "cell_type": "code",
      "source": [
        "response = chain.run({\"query\": \"Where was the 2024 US Open Tennis Championship held?\"})\n",
        "print(response)\n"
      ],
      "metadata": {
        "colab": {
          "base_uri": "https://localhost:8080/"
        },
        "id": "iGIE97gKml8r",
        "outputId": "16c719fc-493a-48de-971d-3ef5ace20554"
      },
      "execution_count": 26,
      "outputs": [
        {
          "output_type": "stream",
          "name": "stdout",
          "text": [
            "I do not know.\n"
          ]
        }
      ]
    },
    {
      "cell_type": "code",
      "source": [
        "urls = [\n",
        "    \"http://mycatalog.txstate.edu/undergraduate/majors/#A\",\n",
        "    \"http://mycatalog.txstate.edu/undergraduate/majors/#B\",\n",
        "    \"http://mycatalog.txstate.edu/undergraduate/majors/#C\",\n",
        "    \"http://mycatalog.txstate.edu/undergraduate/majors/#D\",\n",
        "    \"http://mycatalog.txstate.edu/undergraduate/majors/#E\",\n",
        "    \"http://mycatalog.txstate.edu/undergraduate/majors/#F\",\n",
        "    \"http://mycatalog.txstate.edu/undergraduate/majors/#G\",\n",
        "    \"http://mycatalog.txstate.edu/undergraduate/majors/#H\",\n",
        "    \"http://mycatalog.txstate.edu/undergraduate/majors/#I\",\n",
        "    \"http://mycatalog.txstate.edu/undergraduate/majors/#J\",\n",
        "    \"http://mycatalog.txstate.edu/undergraduate/majors/#K\",\n",
        "    \"http://mycatalog.txstate.edu/undergraduate/majors/#L\",\n",
        "    \"http://mycatalog.txstate.edu/undergraduate/majors/#M\",\n",
        "    \"http://mycatalog.txstate.edu/undergraduate/majors/#N\",\n",
        "    \"http://mycatalog.txstate.edu/undergraduate/majors/#O\",\n",
        "    \"http://mycatalog.txstate.edu/undergraduate/majors/#P\",\n",
        "    \"http://mycatalog.txstate.edu/undergraduate/majors/#Q\",\n",
        "    \"http://mycatalog.txstate.edu/undergraduate/majors/#R\",\n",
        "    \"http://mycatalog.txstate.edu/undergraduate/majors/#S\",\n",
        "    \"http://mycatalog.txstate.edu/undergraduate/majors/#T\",\n",
        "    \"http://mycatalog.txstate.edu/undergraduate/majors/#U\",\n",
        "    \"http://mycatalog.txstate.edu/undergraduate/majors/#V\",\n",
        "    \"http://mycatalog.txstate.edu/undergraduate/majors/#W\",\n",
        "    \"http://mycatalog.txstate.edu/undergraduate/majors/#X\",\n",
        "    \"http://mycatalog.txstate.edu/undergraduate/majors/#Y\",\n",
        "    \"http://mycatalog.txstate.edu/undergraduate/majors/#Z\",\n",
        "    \"https://mycatalog.txstate.edu/undergraduate/mccoy-business-administration/accounting/accounting-bba/\",\n",
        "    \"https://mycatalog.txstate.edu/graduate/mccoy-business-administration/accounting/accounting-bba/\",\n",
        "    \"https://mycatalog.txstate.edu/undergraduate/fine-arts-communication/journalism-mass/advertising-mass-communication-sports-media-concentration-bs/\",\n",
        "    \"https://mycatalog.txstate.edu/undergraduate/fine-arts-communication/journalism-mass/advertising-mass-communication-bs/\",\n",
        "    \"https://mycatalog.txstate.edu/undergraduate/science-engineering/agriculturalsciences/agriculture-business-management-agribusiness-specialization-bsag/\",\n",
        "    \"https://mycatalog.txstate.edu/undergraduate/science-engineering/agriculturalsciences/agriculture-agricultural-mechanics-concentration/\",\n",
        "    \"https://mycatalog.txstate.edu/undergraduate/science-engineering/agriculturalsciences/agriculture-agricultural-horticulture-concentration/\",\n",
        "    \"https://mycatalog.txstate.edu/undergraduate/science-engineering/agriculturalsciences/agriculture-teacher-certification-science-technology-grades-612-bsag/\",\n",
        "    \"https://mycatalog.txstate.edu/undergraduate/science-engineering/agriculturalsciences/agriculture-bsag/\",\n",
        "    \"https://mycatalog.txstate.edu/undergraduate/science-engineering/agriculturalsciences/agriculture-animal-science-preveterinary-concentration/\",\n",
        "    \"https://mycatalog.txstate.edu/undergraduate/science-engineering/agriculturalsciences/agriculture-animal-science/\",\n",
        "    \"https://mycatalog.txstate.edu/undergraduate/liberal-arts/anthropology/anthropology-ba/\",\n",
        "    \"https://mycatalog.txstate.edu/undergraduate/liberal-arts/anthropology/anthropology-bs/\",\n",
        "    \"https://mycatalog.txstate.edu/undergraduate/applied-arts/organization-workforce-leadership-studies/applied-sciences-baas/\",\n",
        "    \"https://mycatalog.txstate.edu/undergraduate/science-engineering/mathematics/applied-bs/\",\n",
        "    \"https://mycatalog.txstate.edu/undergraduate/liberal-arts/sociology/applied-bs/\",\n",
        "    \"https://mycatalog.txstate.edu/undergraduate/science-engineering/biology/aquatic-bs/\",\n",
        "    \"https://mycatalog.txstate.edu/undergraduate/fine-arts-communication/art-design/art-history-ba/\",\n",
        "    \"https://mycatalog.txstate.edu/undergraduate/fine-arts-communication/art-design/art-ba/\",\n",
        "    \"https://mycatalog.txstate.edu/undergraduate/science-engineering/chemistry-biochemistry/biochemistryacs-bs/\",\n",
        "    \"https://mycatalog.txstate.edu/undergraduate/science-engineering/chemistry-biochemistry/biochemistry-early-entry-combined-program-bs-ms/\",\n",
        "    \"https://mycatalog.txstate.edu/undergraduate/science-engineering/chemistry-biochemistry/biochemistry-bs/\",\n",
        "    \"https://mycatalog.txstate.edu/undergraduate/science-engineering/biology/biology-teacher-certification-life-sciences-grades-7-12-bs/\",\n",
        "    \"https://mycatalog.txstate.edu/undergraduate/science-engineering/biology/biology-bs/\",\n",
        "    \"https://mycatalog.txstate.edu/undergraduate/science-engineering/chemistry-biochemistry/chemistry-early-entry-combined-program-bs-ms/\",\n",
        "    \"https://mycatalog.txstate.edu/undergraduate/science-engineering/chemistry-biochemistry/chemistry-teacher-certification-grades-7-12-bs/\",\n",
        "    \"https://mycatalog.txstate.edu/undergraduate/science-engineering/chemistry-biochemistry/chemistry-bs/\",\n",
        "    \"https://mycatalog.txstate.edu/undergraduate/science-engineering/ingram-school/civil-engineering-bs/\",\n",
        "    \"https://mycatalog.txstate.edu/undergraduate/fine-arts-communication/art-design/communication-design-bfa/\",\n",
        "    \"https://mycatalog.txstate.edu/undergraduate/health-professions/communication-disorders/bscd/\",\n",
        "    \"https://mycatalog.txstate.edu/undergraduate/fine-arts-communication/studies/persuasive-communication-studies-ba/\",\n",
        "    \"https://mycatalog.txstate.edu/undergraduate/fine-arts-communication/studies/organizational-communication-studies-ba/\",\n",
        "    \"https://mycatalog.txstate.edu/undergraduate/fine-arts-communication/studies/interpersonal-communication-studies-ba/\",\n",
        "    \"https://mycatalog.txstate.edu/undergraduate/fine-arts-communication/studies/communication-studies-teacher-certification-speech-grades-712-ba/\",\n",
        "    \"https://mycatalog.txstate.edu/undergraduate/fine-arts-communication/studies/communication-studies-ba/\",\n",
        "    \"https://mycatalog.txstate.edu/undergraduate/mccoy-business-administration/computer-information-systems-quantitative-methods/computer-information-systems-bba/cis-business-analytics/\",\n",
        "    \"https://mycatalog.txstate.edu/undergraduate/mccoy-business-administration/computer-information-systems-quantitative-methods/cis-info-security-bba/\",\n",
        "    \"https://mycatalog.txstate.edu/undergraduate/mccoy-business-administration/computer-information-systems-quantitative-methods/cis-software-dev-bba/\",\n",
        "    \"https://mycatalog.txstate.edu/undergraduate/mccoy-business-administration/computer-information-systems-quantitative-methods/computer-information-systems-bba/\",\n",
        "    \"https://mycatalog.txstate.edu/undergraduate/science-engineering/computer/computer-science-concentration-engineering-bs/\",\n",
        "    \"https://mycatalog.txstate.edu/undergraduate/science-engineering/computer/computer-science-ba/\",\n",
        "    \"https://mycatalog.txstate.edu/undergraduate/science-engineering/computer/computer-science-bs/\",\n",
        "    \"https://mycatalog.txstate.edu/undergraduate/science-engineering/technology/concrete-industry-management-minor-business-administration-bs/\",\n",
        "    \"https://mycatalog.txstate.edu/undergraduate/science-engineering/technology/construction-science-management-residential-construction-bs/\",\n",
        "    \"https://mycatalog.txstate.edu/undergraduate/science-engineering/technology/construction-science-management-minor-business-administration-bs/\",\n",
        "    \"https://mycatalog.txstate.edu/undergraduate/applied-arts/family-consumer-sciences/consumer-affairs-family-sciences-option-bsfcs/\",\n",
        "    \"https://mycatalog.txstate.edu/undergraduate/applied-arts/family-consumer-sciences/consumer-affairs-bsfcs/\",\n",
        "    \"https://mycatalog.txstate.edu/undergraduate/applied-arts/family-consumer-sciences/consumer-affairs-teacher-certification-family-sciences-grades-612-bsfcs/\",\n",
        "    \"https://mycatalog.txstate.edu/undergraduate/applied-arts/criminal-justice/criminal-justice-bscj/\",\n",
        "    \"http://mycatalog.txstate.edu/undergraduate/fine-arts-communication/theatre/dance-studies-bfa/\",\n",
        "    \"https://mycatalog.txstate.edu/undergraduate/fine-arts-communication/theatre/dance-performance-choreography-emphasis-bfa/\",\n",
        "    \"https://mycatalog.txstate.edu/undergraduate/fine-arts-communication/theatre/dance-single-field-teaching-certification-grades-812-bfa/\",\n",
        "    \"https://mycatalog.txstate.edu/undergraduate/fine-arts-communication/theatre/dance-two-field-teaching-certification-grades-812-bfa/\",\n",
        "    \"https://mycatalog.txstate.edu/undergraduate/fine-arts-communication/theatre/dance-ba/\",\n",
        "    \"https://mycatalog.txstate.edu/undergraduate/fine-arts-communication/journalism-mass/digital-mass-communication-sports-media-concentration-bs/\",\n",
        "    \"https://mycatalog.txstate.edu/undergraduate/fine-arts-communication/journalism-mass/digital-mass-communication-bs/\",\n",
        "    \"https://mycatalog.txstate.edu/undergraduate/mccoy-business-administration/finance-economics/economics-ba/\",\n",
        "    \"https://mycatalog.txstate.edu/undergraduate/mccoy-business-administration/finance-economics/economics-bba/\",\n",
        "    \"https://mycatalog.txstate.edu/undergraduate/education/curriculum-instruction/education-bilingual-biliteracy-teacher-certficiation-ec6-bilingual-spanish-bs/\",\n",
        "    \"https://mycatalog.txstate.edu/undergraduate/education/curriculum-instruction/education-elementary-education-teacher-certficiation-ec6-esl-bs/\",\n",
        "    \"https://mycatalog.txstate.edu/undergraduate/education/curriculum-instruction/education-middle-teacher-certification-48-bs/\",\n",
        "    \"https://mycatalog.txstate.edu/undergraduate/education/curriculum-instruction/education-middle-teacher-certification-eng-langarts-reading-ss-48-bs/\",\n",
        "    \"https://mycatalog.txstate.edu/undergraduate/education/curriculum-instruction/education-middle-teacher-certification-math-science-48-bs/\",\n",
        "    \"https://mycatalog.txstate.edu/undergraduate/education/curriculum-instruction/education-middle-teacher-certification-math-48-bs/\",\n",
        "    \"https://mycatalog.txstate.edu/undergraduate/education/curriculum-instruction/education-middle-teacher-certification-science-48-bs/\",\n",
        "    \"https://mycatalog.txstate.edu/undergraduate/education/curriculum-instruction/education-ba/\",\n",
        "        \"https://mycatalog.txstate.edu/undergraduate/education/curriculum-instruction/education-secondary-education-teacher-certification-double-bs/\",\n",
        "    \"https://mycatalog.txstate.edu/undergraduate/education/curriculum-instruction/education-special-education-teacher-certification-special-education-ec12-bs/\",\n",
        "    \"https://mycatalog.txstate.edu/undergraduate/science-engineering/ingram-school/electrical-engineering-computer-specialization-bs/\",\n",
        "    \"https://mycatalog.txstate.edu/undergraduate/science-engineering/ingram-school/electrical-engineering-micro-nano-devices-systems-specialization-bs/\",\n",
        "    \"https://mycatalog.txstate.edu/undergraduate/science-engineering/ingram-school/electrical-engineering-networks-communication-systems-specialization-bs/\",\n",
        "    \"https://mycatalog.txstate.edu/undergraduate/fine-arts-communication/journalism-mass/electronic-media-mass-communication-sports-media-concentration-bs/\",\n",
        "    \"https://mycatalog.txstate.edu/undergraduate/fine-arts-communication/journalism-mass/electronic-media-mass-communication-bs/\",\n",
        "    \"https://mycatalog.txstate.edu/undergraduate/science-engineering/technology/engineering-technology-civil-specialization-bst/\",\n",
        "    \"https://mycatalog.txstate.edu/undergraduate/science-engineering/technology/electrical-specialization-bst/\",\n",
        "    \"https://mycatalog.txstate.edu/undergraduate/science-engineering/technology/engineering-technology-environmental-specialization-bst/\",\n",
        "    \"https://mycatalog.txstate.edu/undergraduate/science-engineering/technology/engineering-technology-manufacturing-specialization-bst/\",\n",
        "    \"https://mycatalog.txstate.edu/undergraduate/science-engineering/technology/engineering-technology-mechanical-specialization-bst/\",\n",
        "    \"https://mycatalog.txstate.edu/undergraduate/liberal-arts/english/creative-writing-emphasis-ba/\",\n",
        "    \"https://mycatalog.txstate.edu/undergraduate/liberal-arts/english/film-emphasis-ba/\",\n",
        "    \"https://mycatalog.txstate.edu/undergraduate/liberal-arts/english/english-secondary-tcert-double-ba/\",\n",
        "    \"https://mycatalog.txstate.edu/undergraduate/liberal-arts/english/writing-rhetoric-emphasis-ba/\",\n",
        "    \"https://mycatalog.txstate.edu/undergraduate/liberal-arts/english/english-ba/\",\n",
        "    \"https://mycatalog.txstate.edu/undergraduate/education/health-human-performance/exercise-sports-science-health-wellness-promotion-clinical-populations-concentration-bess/\",\n",
        "    \"https://mycatalog.txstate.edu/undergraduate/education/health-human-performance/exercise-sports-science-prerehab-sciences/\",\n",
        "    \"https://mycatalog.txstate.edu/undergraduate/education/health-human-performance/exercise-sports-science-teacher-certification-physical-education-grades-ec12-bess/\",\n",
        "    \"https://mycatalog.txstate.edu/undergraduate/education/health-human-performance/exercise-sports-sci-athletic-trainig-bessms/\",\n",
        "    \"https://mycatalog.txstate.edu/undergraduate/applied-arts/family-consumer-sciences/fashion-merchandising-plan-presentation-bsfcs/\",\n",
        "    \"https://mycatalog.txstate.edu/undergraduate/applied-arts/family-consumer-sciences/fashion-merchandising-bsfcs/\",\n",
        "    \"https://mycatalog.txstate.edu/undergraduate/mccoy-business-administration/finance-economics/finance-bba/\",\n",
        "    \"https://mycatalog.txstate.edu/undergraduate/liberal-arts/world-languages-literatures/french-secondary-tcert-double-ba/\",\n",
        "    \"https://mycatalog.txstate.edu/undergraduate/liberal-arts/world-languages-literatures/french-ba/\",\n",
        "    \"https://mycatalog.txstate.edu/undergraduate/liberal-arts/geography/geographic-information-science-bs/\",\n",
        "    \"https://mycatalog.txstate.edu/undergraduate/liberal-arts/geography/resource-environmental-studies-bs/\",\n",
        "    \"https://mycatalog.txstate.edu/undergraduate/liberal-arts/geography/urban-regional-planning-bs/\",\n",
        "    \"https://mycatalog.txstate.edu/undergraduate/liberal-arts/geography/water-resources-bs/\",\n",
        "    \"https://mycatalog.txstate.edu/undergraduate/liberal-arts/geography/geography-bs/\",\n",
        "    \"https://mycatalog.txstate.edu/undergraduate/liberal-arts/world-languages-literatures/german-secondary-tcert-double-ba/\",\n",
        "    \"https://mycatalog.txstate.edu/undergraduate/liberal-arts/world-languages-literatures/german-ba/\",\n",
        "    \"https://mycatalog.txstate.edu/undergraduate/education/health-human-performance/health-fitness-management-business-administration-minor-bess/\",\n",
        "    \"https://mycatalog.txstate.edu/undergraduate/health-professions/information-management/bshim/\",\n",
        "    \"https://mycatalog.txstate.edu/undergraduate/health-professions/health-sciences-fine-motor-therapy-bs/\",\n",
        "    \"https://mycatalog.txstate.edu/undergraduate/health-professions/health-sciences-gross-motor-therapy-bs/\",\n",
        "    \"https://mycatalog.txstate.edu/undergraduate/health-professions/health-sciences-prechiropractic-bs/\",\n",
        "    \"https://mycatalog.txstate.edu/undergraduate/health-professions/health-sciences-precomm-disorders-bs/\",\n",
        "    \"https://mycatalog.txstate.edu/undergraduate/health-professions/health-sciences-preclinical-lab-science-bs/\",\n",
        "    \"https://mycatalog.txstate.edu/undergraduate/health-professions/health-sciences-prenursing-bs/\",\n",
        "    \"https://mycatalog.txstate.edu/undergraduate/health-professions/health-sciences-preradiation-therapy-bs/\",\n",
        "    \"https://mycatalog.txstate.edu/undergraduate/health-professions/health-sciences-prerespiratory-bs/\",\n",
        "    \"https://mycatalog.txstate.edu/undergraduate/health-professions/health-sciences-bs/\",\n",
        "    \"https://mycatalog.txstate.edu/undergraduate/health-professions/administration/healthcare-administration-bha/\",\n",
        "    \"https://mycatalog.txstate.edu/undergraduate/liberal-arts/history/history-secondary-tcert-double-ba/\",\n",
        "    \"https://mycatalog.txstate.edu/undergraduate/liberal-arts/history/history-secondary-tcert-ss-double-ba/\",\n",
        "    \"https://mycatalog.txstate.edu/undergraduate/liberal-arts/history/history-two-fields-teacher-certification-ba/\",\n",
        "    \"https://mycatalog.txstate.edu/undergraduate/liberal-arts/history/history-ba/\",\n",
        "    \"https://mycatalog.txstate.edu/undergraduate/applied-arts/family-consumer-sciences/human-dev-family-sciences-teacher-certification-human-studies-grades-812-bsfcs/\",\n",
        "    \"https://mycatalog.txstate.edu/undergraduate/applied-arts/family-consumer-sciences/human-dev-family-sciences-bsfcs/\",\n",
        "    \"https://mycatalog.txstate.edu/undergraduate/liberal-arts/geography/geography-ba/\",\n",
        "    \"https://mycatalog.txstate.edu/undergraduate/science-engineering/ingram-school/industrial-engineering-bs/\",\n",
        "    \"https://mycatalog.txstate.edu/undergraduate/education/counseling-leadership-adult-school-psychology/integrated-studies-bgs/\",\n",
        "    \"https://mycatalog.txstate.edu/undergraduate/applied-arts/family-consumer-sciences/interior-design-bsfcs/\",\n",
        "    \"https://mycatalog.txstate.edu/undergraduate/liberal-arts/international-studies/relations-bais/\",\n",
        "    \"https://mycatalog.txstate.edu/undergraduate/liberal-arts/international-studies/asian-focus-bais/\",\n",
        "    \"https://mycatalog.txstate.edu/undergraduate/liberal-arts/international-studies/european-focus-bais/\",\n",
        "    \"https://mycatalog.txstate.edu/undergraduate/liberal-arts/international-studies/business-focus-bais/\",\n",
        "    \"https://mycatalog.txstate.edu/undergraduate/liberal-arts/international-studies/interamerican-focus-bais/\",\n",
        "    \"https://mycatalog.txstate.edu/undergraduate/liberal-arts/international-studies/middle-east-african-focus-bais/\",\n",
        "    \"https://mycatalog.txstate.edu/undergraduate/liberal-arts/international-studies/russian-east-european-focus-bais/\",\n",
        "    \"https://mycatalog.txstate.edu/undergraduate/liberal-arts/international-studies/travel-tourism-focus-bais/\",\n",
        "    \"https://mycatalog.txstate.edu/undergraduate/fine-arts-communication/journalism-mass/journalism-mass-communication-sports-media-concentration-bs/\",\n",
        "    \"https://mycatalog.txstate.edu/undergraduate/fine-arts-communication/journalism-mass/journalism-mass-communication-bs/\",\n",
        "    \"https://mycatalog.txstate.edu/undergraduate/mccoy-business-administration/management/management-entrepreneurial-studies-concentration-bba/\",\n",
        "    \"https://mycatalog.txstate.edu/undergraduate/mccoy-business-administration/management/management-human-resource-concentration-bba/\",\n",
        "    \"https://mycatalog.txstate.edu/undergraduate/mccoy-business-administration/management/management-bba/\",\n",
        "    \"https://mycatalog.txstate.edu/undergraduate/science-engineering/ingram-school/manufacturing-engineering-mechanical-systems-concentration-bs/\",\n",
        "    \"https://mycatalog.txstate.edu/undergraduate/science-engineering/ingram-school/manufacturing-engineering-smart-concentration-bs/\",\n",
        "    \"https://mycatalog.txstate.edu/undergraduate/mccoy-business-administration/marketing/marketing-professional-sales-concentration-bba/\",\n",
        "    \"https://mycatalog.txstate.edu/undergraduate/mccoy-business-administration/marketing/marketing-services-concentration-bba/\",\n",
        "    \"https://mycatalog.txstate.edu/undergraduate/mccoy-business-administration/marketing/marketing-bba/\",\n",
        "    \"https://mycatalog.txstate.edu/undergraduate/fine-arts-communication/journalism-mass/mass-communication-ba/\",\n",
        "    \"https://mycatalog.txstate.edu/undergraduate/science-engineering/mathematics/mathematics-teacher-certification-grades-7-12-bs/\",\n",
        "    \"https://mycatalog.txstate.edu/undergraduate/science-engineering/mathematics/mathematics-ba/\",\n",
        "    \"https://mycatalog.txstate.edu/undergraduate/science-engineering/mathematics/mathematics-bs/\",\n",
        "    \"https://mycatalog.txstate.edu/undergraduate/science-engineering/ingram-school/mechanical-bs/\",\n",
        "    \"https://mycatalog.txstate.edu/undergraduate/health-professions/medical-laboratory-science-program/\",\n",
        "    \"https://mycatalog.txstate.edu/undergraduate/science-engineering/biology/microbiology-molecular-genetics-bs/\",\n",
        "    \"https://next.mycatalog.txstate.edu/undergraduate/fine-arts-communication/music/music-studies-band-concentration-teacher-certification-grades-ec12-BM/\",\n",
        "    \"https://mycatalog.txstate.edu/undergraduate/fine-arts-communication/music/music-studies-choral-concentration-teacher-certification-grades-ec12-bm/\",\n",
        "    \"https://mycatalog.txstate.edu/undergraduate/fine-arts-communication/music/music-studies-mariachi-concentration-teacher-certification-grades-ec12-bm/\",\n",
        "    \"https://mycatalog.txstate.edu/undergraduate/fine-arts-communication/music/music-ba/\",\n",
        "    \"https://mycatalog.txstate.edu/undergraduate/fine-arts-communication/theatre/musical-theatre-bfa/\",\n",
        "    \"https://mycatalog.txstate.edu/undergraduate/health-professions/st-davids-nursing/rn-to-bsn/\",\n",
        "    \"https://mycatalog.txstate.edu/graduate/health-professions/st-davids-nursing/leadershipandadminnursing-rn-bsn-msn/\",\n",
        "    \"https://mycatalog.txstate.edu/undergraduate/health-professions/st-davids-nursing/bsn/\",\n",
        "    \"https://mycatalog.txstate.edu/undergraduate/applied-arts/family-consumer-sciences/nutrition-foods-dietetics-track-bsfcs/\",\n",
        "    \"https://mycatalog.txstate.edu/undergraduate/applied-arts/family-consumer-sciences/nutrition-foods-teacher-certification-hospitality-nutrition-food-sciences-grades-812-bsfcs/\",\n",
        "    \"https://mycatalog.txstate.edu/undergraduate/applied-arts/family-consumer-sciences/nutrition-foods-bsfcs/\",\n",
        "    \"https://mycatalog.txstate.edu/undergraduate/fine-arts-communication/music/performance-composition-concentration-bm/\",\n",
        "    \"https://mycatalog.txstate.edu/undergraduate/fine-arts-communication/music/performance-guitar-concentration-bm/\",\n",
        "    \"https://mycatalog.txstate.edu/undergraduate/fine-arts-communication/music/performance-instrumental-concentration-bm/\",\n",
        "    \"https://mycatalog.txstate.edu/undergraduate/fine-arts-communication/music/performance-jazz-concentration-bm/\",\n",
        "    \"https://mycatalog.txstate.edu/undergraduate/fine-arts-communication/music/performance-keyboard-concentration-bm/\",\n",
        "    \"https://mycatalog.txstate.edu/undergraduate/fine-arts-communication/music/performance-vocal-concentration-bm/\",\n",
        "    \"https://mycatalog.txstate.edu/undergraduate/liberal-arts/philosophy/philosophy-ba/\",\n",
        "    \"https://mycatalog.txstate.edu/undergraduate/fine-arts-communication/art-design/photography-bfa/\",\n",
        "    \"https://mycatalog.txstate.edu/undergraduate/liberal-arts/geography/physical-bs/\",\n",
        "    \"https://mycatalog.txstate.edu/undergraduate/science-engineering/physics/physics-astronomy-bs/\",\n",
        "    \"https://mycatalog.txstate.edu/undergraduate/science-engineering/physics/physics-teacher-certification-physics-math-grades-7-12-bs/\",\n",
        "    \"https://mycatalog.txstate.edu/undergraduate/science-engineering/physics/physics-ba/\",\n",
        "    \"https://mycatalog.txstate.edu/undergraduate/science-engineering/physics/physics-bs/\",\n",
        "    \"https://mycatalog.txstate.edu/undergraduate/liberal-arts/political-science/political-science-ba/\",\n",
        "    \"https://mycatalog.txstate.edu/undergraduate/liberal-arts/psychology/psychology-ba/\",\n",
        "    \"https://mycatalog.txstate.edu/undergraduate/liberal-arts/psychology/psychology-science-minor-bs/\",\n",
        "    \"https://mycatalog.txstate.edu/undergraduate/liberal-arts/political-science/public-administration-bpa/\",\n",
        "    \"https://mycatalog.txstate.edu/undergraduate/education/health-human-performance/public-health-applied-epidemiology-bs/\",\n",
        "    \"https://mycatalog.txstate.edu/undergraduate/education/health-human-performance/public-health-health-wellness-coaching-bs/\",\n",
        "    \"https://mycatalog.txstate.edu/undergraduate/education/health-human-performance/public-health-health-equity-bs/\",\n",
        "    \"https://mycatalog.txstate.edu/undergraduate/education/health-human-performance/public-health-bs/\",\n",
        "    \"https://mycatalog.txstate.edu/undergraduate/fine-arts-communication/journalism-mass/public-relations-mass-communication-sports-media-concentration-bs/\",\n",
        "    \"https://mycatalog.txstate.edu/undergraduate/fine-arts-communication/journalism-mass/public-relations-mass-communication-bs/\",\n",
        "    \"https://mycatalog.txstate.edu/undergraduate/health-professions/radiation-therapy-program/bsrt/\",\n",
        "    \"https://mycatalog.txstate.edu/undergraduate/education/health-human-performance/recreation-studies-community-recreation-bs/\",\n",
        "    \"https://mycatalog.txstate.edu/undergraduate/education/health-human-performance/recreation-studies-outdoor-recreation-bs/\",\n",
        "    \"https://mycatalog.txstate.edu/undergraduate/education/health-human-performance/recreation-studies-therapeutic-recreation-bs/\",\n",
        "    \"https://mycatalog.txstate.edu/undergraduate/liberal-arts/philosophy/religious-studies-ba/\",\n",
        "    \"https://mycatalog.txstate.edu/undergraduate/health-professions/respiratory-care/rrt-to-bsrc/\",\n",
        "    \"https://mycatalog.txstate.edu/undergraduate/health-professions/respiratory-care/bsrc/\",\n",
        "    \"https://mycatalog.txstate.edu/undergraduate/applied-arts/social-work/social-work-bsw/\",\n",
        "    \"https://mycatalog.txstate.edu/undergraduate/liberal-arts/sociology/sociology-ba/\",\n",
        "    \"https://mycatalog.txstate.edu/undergraduate/fine-arts-communication/music/sound-recording-technology-bs/\",\n",
        "    \"https://mycatalog.txstate.edu/undergraduate/liberal-arts/world-languages-literatures/spanish-hispanic-litandculture-ba/\",\n",
        "    \"https://mycatalog.txstate.edu/undergraduate/liberal-arts/world-languages-literatures/spanish-secondary-tcert-double-ba/\",\n",
        "    \"https://mycatalog.txstate.edu/undergraduate/liberal-arts/world-languages-literatures/spanish-profesions-ba/\",\n",
        "    \"https://mycatalog.txstate.edu/undergraduate/liberal-arts/world-languages-literatures/spanish-linguistics-ba/\",\n",
        "    \"https://mycatalog.txstate.edu/undergraduate/liberal-arts/world-languages-literatures/spanish-ba/\",\n",
        "    \"https://mycatalog.txstate.edu/undergraduate/fine-arts-communication/art-design/studio-art-teacher-certification-art-grades-ec12-bfa/\",\n",
        "    \"https://mycatalog.txstate.edu/undergraduate/fine-arts-communication/art-design/studio-art-bfa/\",\n",
        "    \"https://mycatalog.txstate.edu/undergraduate/fine-arts-communication/theatre/theatre-acting-preprofessional-option-bfa/\",\n",
        "    \"https://mycatalog.txstate.edu/undergraduate/fine-arts-communication/theatre/theatre-film-production-bfa/\",\n",
        "    \"https://mycatalog.txstate.edu/undergraduate/fine-arts-communication/theatre/theatre-performance-production-preprofessional-option-bfa/\",\n",
        "    \"https://mycatalog.txstate.edu/undergraduate/fine-arts-communication/theatre/theatre-teacher-certification-grades-ec12-bfa/\",\n",
        "    \"https://mycatalog.txstate.edu/undergraduate/fine-arts-communication/theatre/theatre-technical-production-bfa/\",\n",
        "    \"https://mycatalog.txstate.edu/undergraduate/fine-arts-communication/theatre/theatre-ba/\",\n",
        "    \"https://mycatalog.txstate.edu/undergraduate/science-engineering/biology/wildlife-certification-biologist-bs/\"\n",
        "]\n",
        "\n",
        "\n"
      ],
      "metadata": {
        "id": "ntE06ReLmrVe"
      },
      "execution_count": 28,
      "outputs": []
    },
    {
      "cell_type": "code",
      "source": [
        "loaders = [WebBaseLoader(url) for url in urls]\n",
        "docs = []\n",
        "for loader in loaders:\n",
        "    loaded_docs = loader.load()\n",
        "    docs.extend(loaded_docs)\n"
      ],
      "metadata": {
        "id": "IjLh4lgZnhhB"
      },
      "execution_count": 29,
      "outputs": []
    },
    {
      "cell_type": "code",
      "source": [
        "print(docs[0].page_content[:500])  # Print the first 500 characters\n"
      ],
      "metadata": {
        "colab": {
          "base_uri": "https://localhost:8080/"
        },
        "id": "EaHT2RtJn_WQ",
        "outputId": "2980148d-63e8-41c4-88d4-bb3936d10052"
      },
      "execution_count": 30,
      "outputs": [
        {
          "output_type": "stream",
          "name": "stdout",
          "text": [
            "\n",
            "\n",
            "\n",
            "\n",
            "Undergraduate Degree Programs | Texas State University\n",
            "\n",
            "\n",
            "\n",
            "\n",
            "\n",
            "\n",
            "\n",
            "\n",
            "\n",
            "\n",
            "\n",
            "\n",
            "\n",
            "\n",
            "\n",
            "\n",
            "\n",
            "\n",
            "\n",
            "\n",
            "\n",
            "\n",
            "\n",
            "\n",
            "\n",
            "\n",
            "Skip to Content\n",
            "AZ Index\n",
            "Catalog Home\n",
            "Institution Home\n",
            "\n",
            "\n",
            "\n",
            "\n",
            "\n",
            "\n",
            "\n",
            "\n",
            "Search Catalog\n",
            "\n",
            "Search\n",
            "\n",
            "\n",
            "\n",
            "HomeUndergraduateUndergraduate Degree Programs\n",
            "\n",
            "\n",
            "Catalogs 2024-2025\n",
            "\n",
            "Catalog Home\n",
            "Undergraduate Degree Programs\n",
            "Graduate Degree Programs\n",
            "\n",
            "Previous Catalogs\n",
            "\n",
            "Undergraduate\n",
            "Graduate\n",
            "\n",
            "\n",
            "\n",
            "\n",
            "\n",
            "BobcatMail\n",
            "CatsWeb\n",
            "Canvas\n",
            "\n",
            "\n",
            "\n",
            "More Tools \n",
            "\n",
            "\n",
            "\n",
            "SAP Portal\n",
            "Pay Tuition\n",
            "Online Toolkit\n",
            "ePortfolio\n",
            "Catalogs\n",
            "Shuttle Tracker\n",
            "\n",
            "\n",
            "\n",
            "\n",
            "\n",
            "\n",
            "About\n",
            "Athletics\n",
            "G\n"
          ]
        }
      ]
    },
    {
      "cell_type": "code",
      "source": [
        "text_splitter = RecursiveCharacterTextSplitter(\n",
        "    chunk_size=250,\n",
        "    chunk_overlap=0,\n",
        "    separators=[\"\\n\\n\", \"\\n\", \" \", \"\"]\n",
        ")\n",
        "doc_splits = text_splitter.split_documents(docs)\n"
      ],
      "metadata": {
        "id": "pFlmHpKXoNq0"
      },
      "execution_count": 31,
      "outputs": []
    },
    {
      "cell_type": "code",
      "source": [
        "embeddings = OpenAIEmbeddings(openai_api_key=openai_api_key)\n",
        "vectorstore = Chroma.from_documents(\n",
        "    documents=doc_splits,\n",
        "    embedding=embeddings,\n",
        "    collection_name=\"agentic-rag-chroma\"\n",
        ")\n"
      ],
      "metadata": {
        "colab": {
          "base_uri": "https://localhost:8080/"
        },
        "id": "YameSdReoQ7S",
        "outputId": "e67c31f5-f5a8-4936-e1ab-60731da14698"
      },
      "execution_count": 32,
      "outputs": [
        {
          "output_type": "stream",
          "name": "stderr",
          "text": [
            "<ipython-input-32-7492a69dacf0>:1: LangChainDeprecationWarning: The class `OpenAIEmbeddings` was deprecated in LangChain 0.0.9 and will be removed in 1.0. An updated version of the class exists in the :class:`~langchain-openai package and should be used instead. To use it run `pip install -U :class:`~langchain-openai` and import as `from :class:`~langchain_openai import OpenAIEmbeddings``.\n",
            "  embeddings = OpenAIEmbeddings(openai_api_key=openai_api_key)\n"
          ]
        }
      ]
    },
    {
      "cell_type": "code",
      "source": [
        "retriever = vectorstore.as_retriever()\n"
      ],
      "metadata": {
        "id": "sMC3jdItoUKt"
      },
      "execution_count": 33,
      "outputs": []
    },
    {
      "cell_type": "code",
      "source": [
        "@tool\n",
        "def get_mccoy_business_administration_context(question: str) -> str:\n",
        "    \"\"\"Retrieve context about Texas State University's McCoy College of Business Administration.\"\"\"\n",
        "    docs = retriever.get_relevant_documents(f\"McCoy Business Administration {question}\")\n",
        "    if not docs:\n",
        "        return \"I could not find any relevant information about McCoy Business Administration.\"\n",
        "    context = \"\\n\".join([doc.page_content for doc in docs])\n",
        "    return context\n",
        "\n",
        "\n",
        "@tool\n",
        "def get_fine_arts_context(question: str) -> str:\n",
        "    \"\"\"Retrieve context about Texas State University's Fine Arts and Communication programs.\"\"\"\n",
        "    docs = retriever.get_relevant_documents(f\"Fine Arts and Communication {question}\")\n",
        "    if not docs:\n",
        "        return \"I could not find any relevant information about Fine Arts and Communication.\"\n",
        "    context = \"\\n\".join([doc.page_content for doc in docs])\n",
        "    return context\n",
        "\n",
        "\n",
        "@tool\n",
        "def get_liberal_arts_context(question: str) -> str:\n",
        "    \"\"\"Retrieve context about Texas State University's Liberal Arts programs.\"\"\"\n",
        "    docs = retriever.get_relevant_documents(f\"Liberal Arts {question}\")\n",
        "    if not docs:\n",
        "        return \"I could not find any relevant information about Liberal Arts.\"\n",
        "    context = \"\\n\".join([doc.page_content for doc in docs])\n",
        "    return context\n",
        "\n",
        "\n",
        "@tool\n",
        "def get_science_and_engineering_context(question: str) -> str:\n",
        "    \"\"\"Retrieve context about Texas State University's Science and Engineering programs.\"\"\"\n",
        "    docs = retriever.get_relevant_documents(f\"Science and Engineering {question}\")\n",
        "    if not docs:\n",
        "        return \"I could not find any relevant information about Science and Engineering.\"\n",
        "    context = \"\\n\".join([doc.page_content for doc in docs])\n",
        "    return context\n",
        "\n",
        "\n",
        "@tool\n",
        "def get_health_professions_context(question: str) -> str:\n",
        "    \"\"\"Retrieve context about Texas State University's Health Professions programs.\"\"\"\n",
        "    docs = retriever.get_relevant_documents(f\"Health Professions {question}\")\n",
        "    if not docs:\n",
        "        return \"I could not find any relevant information about Health Professions.\"\n",
        "    context = \"\\n\".join([doc.page_content for doc in docs])\n",
        "    return context\n",
        "\n",
        "\n",
        "@tool\n",
        "def get_applied_arts_context(question: str) -> str:\n",
        "    \"\"\"Retrieve context about Texas State University's Applied Arts programs.\"\"\"\n",
        "    docs = retriever.get_relevant_documents(f\"Applied Arts {question}\")\n",
        "    if not docs:\n",
        "        return \"I could not find any relevant information about Applied Arts.\"\n",
        "    context = \"\\n\".join([doc.page_content for doc in docs])\n",
        "    return context\n",
        "\n",
        "\n",
        "@tool\n",
        "def get_education_context(question: str) -> str:\n",
        "    \"\"\"Retrieve context about Texas State University's Education programs.\"\"\"\n",
        "    docs = retriever.get_relevant_documents(f\"Education {question}\")\n",
        "    if not docs:\n",
        "        return \"I could not find any relevant information about Education.\"\n",
        "    context = \"\\n\".join([doc.page_content for doc in docs])\n",
        "    return context\n"
      ],
      "metadata": {
        "id": "nrUQGn8rpNOh"
      },
      "execution_count": 34,
      "outputs": []
    },
    {
      "cell_type": "code",
      "source": [
        "tools = [\n",
        "    get_mccoy_business_administration_context,\n",
        "    get_fine_arts_context,\n",
        "    get_liberal_arts_context,\n",
        "    get_science_and_engineering_context,\n",
        "    get_health_professions_context,\n",
        "    get_applied_arts_context,\n",
        "    get_education_context\n",
        "]\n"
      ],
      "metadata": {
        "id": "Cks3H_ADpQXc"
      },
      "execution_count": 35,
      "outputs": []
    },
    {
      "cell_type": "code",
      "source": [
        "system_prompt = \"\"\"You are an AI academic advisor for Texas State University, specializing in providing detailed information about various undergraduate programs. You have access to the following tools: {tools}.\n",
        "\n",
        "Use these tools to retrieve department-specific information as needed for Texas State’s McCoy Business Administration, Fine Arts and Communication, Liberal Arts, Science and Engineering, Health Professions, Applied Arts, Education, or IBM's involvement in the 2024 US Open.\n",
        "\n",
        "When answering questions, follow this response format:\n",
        "\n",
        "1. Analyze the question to determine the relevant department or topic.\n",
        "2. Use the corresponding tool to retrieve context if necessary.\n",
        "3. Provide a clear and detailed response based on the retrieved information or your existing knowledge.\n",
        "\n",
        "Format:\n",
        "{{ \"action\": \"Tool Name\", \"action_input\": \"Tool Input\" }}\n",
        "Provide only ONE action per JSON block.\n",
        "\n",
        "Example:\n",
        "User: \"Tell me about the Computer Information Systems major.\"\n",
        "\n",
        "Response:\n",
        "- Identify that this major is part of McCoy Business Administration.\n",
        "- Use `get_mccoy_business_administration_context` to retrieve specific information.\n",
        "- Respond with: \"The Computer Information Systems major at Texas State University offers... [details from retrieved context].\"\n",
        "\n",
        "If no specific information is available, notify the user with a message such as:\n",
        "\"I couldn't find specific information on that topic, but I can help with general questions.\"\n",
        "\n",
        "Your objective is to deliver comprehensive, department-focused answers that aid students in exploring and understanding Texas State University's programs and offerings.\n",
        "\"\"\"\n"
      ],
      "metadata": {
        "id": "cCoRmq0qpVc5"
      },
      "execution_count": 37,
      "outputs": []
    },
    {
      "cell_type": "code",
      "source": [
        "human_prompt = \"\"\"Question: {input}\n",
        "{agent_scratchpad}\n",
        "\"\"\"\n"
      ],
      "metadata": {
        "id": "16nIpJkCp3kv"
      },
      "execution_count": 38,
      "outputs": []
    },
    {
      "cell_type": "code",
      "source": [
        "from langchain.prompts import ChatPromptTemplate, MessagesPlaceholder\n",
        "from langchain.agents import AgentType, initialize_agent, load_tools\n",
        "from langchain.llms import OpenAI\n",
        "from langchain import SerpAPIWrapper\n",
        "from langchain.agents import Tool\n",
        "from langchain.tools import BaseTool\n",
        "from typing import Optional, Type\n",
        "from pydantic import BaseModel, Field"
      ],
      "metadata": {
        "id": "-ttyFtOOqD1a"
      },
      "execution_count": 40,
      "outputs": []
    },
    {
      "cell_type": "code",
      "source": [
        "from langchain.vectorstores import Chroma\n",
        "from langchain_community.document_loaders import WebBaseLoader\n",
        "from langchain.text_splitter import RecursiveCharacterTextSplitter\n",
        "from langchain_core.prompts import ChatPromptTemplate, MessagesPlaceholder\n",
        "from langchain.prompts import PromptTemplate\n",
        "from langchain.tools import tool\n",
        "from langchain.tools.render import render_text_description_and_args\n",
        "from langchain.agents.output_parsers import JSONAgentOutputParser\n",
        "from langchain.agents.format_scratchpad import format_log_to_str\n",
        "from langchain.agents import AgentExecutor\n",
        "from langchain.memory import ConversationBufferMemory\n",
        "from langchain_core.runnables import RunnablePassthrough"
      ],
      "metadata": {
        "id": "5paoRECZqY3Y"
      },
      "execution_count": 43,
      "outputs": []
    },
    {
      "cell_type": "code",
      "source": [
        "from langchain.prompts import ChatPromptTemplate, MessagesPlaceholder\n",
        "\n",
        "prompt = ChatPromptTemplate.from_messages([\n",
        "    (\"system\", system_prompt),\n",
        "    MessagesPlaceholder(variable_name=\"chat_history\", optional=True),\n",
        "    (\"human\", human_prompt),\n",
        "])\n",
        "\n",
        "# Finalize the prompt with tool names and descriptions\n",
        "# from langchain.agents import render_tools_text\n",
        "\n",
        "prompt = prompt.partial(\n",
        "    tools=render_text_description_and_args(tools),\n",
        "    tool_names=\", \".join([tool.name for tool in tools]),\n",
        ")\n"
      ],
      "metadata": {
        "id": "rQkokwQ0p6BD"
      },
      "execution_count": 44,
      "outputs": []
    },
    {
      "cell_type": "code",
      "source": [
        "memory = ConversationBufferMemory(memory_key=\"chat_history\")\n"
      ],
      "metadata": {
        "colab": {
          "base_uri": "https://localhost:8080/"
        },
        "id": "R2xG5ALSqaWt",
        "outputId": "db6908a1-950c-4da2-c661-6704ef1ce333"
      },
      "execution_count": 45,
      "outputs": [
        {
          "output_type": "stream",
          "name": "stderr",
          "text": [
            "<ipython-input-45-1d4038f3f304>:1: LangChainDeprecationWarning: Please see the migration guide at: https://python.langchain.com/docs/versions/migrating_memory/\n",
            "  memory = ConversationBufferMemory(memory_key=\"chat_history\")\n"
          ]
        }
      ]
    },
    {
      "cell_type": "code",
      "source": [
        "agent_executor = initialize_agent(\n",
        "    tools=tools,\n",
        "    llm=llm,\n",
        "    agent=AgentType.OPENAI_FUNCTIONS,  # Using OpenAI functions for tool usage\n",
        "    verbose=True,\n",
        "    memory=memory,\n",
        "    prompt=prompt,\n",
        ")\n"
      ],
      "metadata": {
        "colab": {
          "base_uri": "https://localhost:8080/"
        },
        "id": "MRnp3ceAqdyK",
        "outputId": "bc427584-9225-40c9-c972-6c33bd79ac64"
      },
      "execution_count": 46,
      "outputs": [
        {
          "output_type": "stream",
          "name": "stderr",
          "text": [
            "<ipython-input-46-3f8124d6385b>:1: LangChainDeprecationWarning: The function `initialize_agent` was deprecated in LangChain 0.1.0 and will be removed in 1.0. Use :meth:`~Use new agent constructor methods like create_react_agent, create_json_agent, create_structured_chat_agent, etc.` instead.\n",
            "  agent_executor = initialize_agent(\n"
          ]
        }
      ]
    },
    {
      "cell_type": "code",
      "source": [
        "response = agent_executor.run(\"Can you provide details about the Computer Information Systems program at Texas State University, including available concentrations?\")\n",
        "print(response)\n"
      ],
      "metadata": {
        "colab": {
          "base_uri": "https://localhost:8080/"
        },
        "id": "WtBRpfwQqeT8",
        "outputId": "ad6a3cff-2d8e-4ce8-b2bc-29d552ad0776"
      },
      "execution_count": 47,
      "outputs": [
        {
          "output_type": "stream",
          "name": "stdout",
          "text": [
            "\n",
            "\n",
            "\u001b[1m> Entering new AgentExecutor chain...\u001b[0m\n",
            "\u001b[32;1m\u001b[1;3m\n",
            "Invoking: `get_mccoy_business_administration_context` with `{'question': 'What are the details of the Computer Information Systems program at Texas State University, including available concentrations?'}`\n",
            "\n",
            "\n",
            "\u001b[0m"
          ]
        },
        {
          "output_type": "stream",
          "name": "stderr",
          "text": [
            "<ipython-input-34-a3a95b7ed85f>:4: LangChainDeprecationWarning: The method `BaseRetriever.get_relevant_documents` was deprecated in langchain-core 0.1.46 and will be removed in 1.0. Use :meth:`~invoke` instead.\n",
            "  docs = retriever.get_relevant_documents(f\"McCoy Business Administration {question}\")\n"
          ]
        },
        {
          "output_type": "stream",
          "name": "stdout",
          "text": [
            "\u001b[36;1m\u001b[1;3mInformation Systems at Texas State University. More information about the Field of Study is available in the Academic Policies section of this catalog. If transferring additional business courses, please contact the McCoy College of Business\n",
            "Information Systems at Texas State University. More information about the Field of Study is available in the Academic Policies section of this catalog. If transferring additional business courses, please contact the McCoy College of Business\n",
            "Information Systems at Texas State University. More information about the Field of Study is available in the Academic Policies section of this catalog. If transferring additional business courses, please contact the McCoy College of Business\n",
            "Information Systems at Texas State University. More information about the Field of Study is available in the Academic Policies section of this catalog. If transferring additional business courses, please contact the McCoy College of Business\u001b[0m\u001b[32;1m\u001b[1;3mIt seems that I wasn't able to retrieve specific details about the Computer Information Systems program at Texas State University, including its concentrations. However, I can provide a general overview based on typical offerings in such programs.\n",
            "\n",
            "The Computer Information Systems (CIS) program at Texas State University usually focuses on the intersection of business and technology, preparing students for careers in information technology and systems management. Common concentrations within CIS programs may include:\n",
            "\n",
            "1. **Data Analytics**: Focuses on data analysis, data mining, and business intelligence.\n",
            "2. **Cybersecurity**: Concentrates on protecting information systems from cyber threats.\n",
            "3. **Software Development**: Emphasizes programming, software engineering, and application development.\n",
            "4. **Network Administration**: Covers the management and maintenance of computer networks.\n",
            "\n",
            "For the most accurate and detailed information, including specific concentrations and course offerings, I recommend checking the official Texas State University website or contacting the McCoy College of Business directly.\u001b[0m\n",
            "\n",
            "\u001b[1m> Finished chain.\u001b[0m\n",
            "It seems that I wasn't able to retrieve specific details about the Computer Information Systems program at Texas State University, including its concentrations. However, I can provide a general overview based on typical offerings in such programs.\n",
            "\n",
            "The Computer Information Systems (CIS) program at Texas State University usually focuses on the intersection of business and technology, preparing students for careers in information technology and systems management. Common concentrations within CIS programs may include:\n",
            "\n",
            "1. **Data Analytics**: Focuses on data analysis, data mining, and business intelligence.\n",
            "2. **Cybersecurity**: Concentrates on protecting information systems from cyber threats.\n",
            "3. **Software Development**: Emphasizes programming, software engineering, and application development.\n",
            "4. **Network Administration**: Covers the management and maintenance of computer networks.\n",
            "\n",
            "For the most accurate and detailed information, including specific concentrations and course offerings, I recommend checking the official Texas State University website or contacting the McCoy College of Business directly.\n"
          ]
        }
      ]
    },
    {
      "cell_type": "code",
      "source": [
        "response = agent_executor.run(\n",
        "    \"What are the core courses, concentrations, and career opportunities available for students in the Computer Information Systems program at Texas State University?\"\n",
        ")\n",
        "print(response)\n"
      ],
      "metadata": {
        "colab": {
          "base_uri": "https://localhost:8080/"
        },
        "id": "-wuvmMluq1cv",
        "outputId": "f7995468-80de-40ff-ca4d-236c6666b933"
      },
      "execution_count": 48,
      "outputs": [
        {
          "output_type": "stream",
          "name": "stdout",
          "text": [
            "\n",
            "\n",
            "\u001b[1m> Entering new AgentExecutor chain...\u001b[0m\n",
            "\u001b[32;1m\u001b[1;3m\n",
            "Invoking: `get_mccoy_business_administration_context` with `{'question': 'What are the core courses, concentrations, and career opportunities available for students in the Computer Information Systems program?'}`\n",
            "\n",
            "\n",
            "\u001b[0m\u001b[36;1m\u001b[1;3mfollowing common core of business courses or their equivalents as required by the McCoy College: \t  Course List        Code Title Hours    B A 1310Introduction to Business3 ISAN 1323Introduction to Microcomputer Applications3 ECO 2314Principles of\n",
            "common body of knowledge in business, all students seeking the B.B.A. must complete the following common core of business courses or their equivalents as required by the McCoy College: \t  Course List        Code Title Hours    B A 1310Introduction\n",
            "common body of knowledge in business, all students seeking the B.B.A. must complete the following common core of business courses or their equivalents as required by the McCoy College: \t  Course List        Code Title Hours    B A 1310Introduction\n",
            "common body of knowledge in business, all students seeking the B.B.A. must complete the following common core of business courses or their equivalents as required by the McCoy College: \t  Course List        Code Title Hours    B A 1310Introduction\u001b[0m\u001b[32;1m\u001b[1;3mThe information I retrieved did not provide specific details about the core courses, concentrations, and career opportunities for the Computer Information Systems program at Texas State University. However, I can summarize what is typically included in such programs.\n",
            "\n",
            "### Core Courses\n",
            "In a Computer Information Systems program, core courses often include:\n",
            "- Introduction to Computer Information Systems\n",
            "- Database Management Systems\n",
            "- Systems Analysis and Design\n",
            "- Networking and Telecommunications\n",
            "- Web Development\n",
            "- Information Security\n",
            "- Project Management\n",
            "\n",
            "### Concentrations\n",
            "Common concentrations within a Computer Information Systems program may include:\n",
            "- Data Analytics\n",
            "- Cybersecurity\n",
            "- Software Development\n",
            "- Network Administration\n",
            "- Business Intelligence\n",
            "\n",
            "### Career Opportunities\n",
            "Graduates of a Computer Information Systems program typically pursue careers such as:\n",
            "- Systems Analyst\n",
            "- Database Administrator\n",
            "- Network Administrator\n",
            "- IT Project Manager\n",
            "- Software Developer\n",
            "- Information Security Analyst\n",
            "- Business Analyst\n",
            "\n",
            "For the most accurate and detailed information, I recommend checking Texas State University's official website or contacting the McCoy College of Business Administration directly. Would you like me to look for more specific information?\u001b[0m\n",
            "\n",
            "\u001b[1m> Finished chain.\u001b[0m\n",
            "The information I retrieved did not provide specific details about the core courses, concentrations, and career opportunities for the Computer Information Systems program at Texas State University. However, I can summarize what is typically included in such programs.\n",
            "\n",
            "### Core Courses\n",
            "In a Computer Information Systems program, core courses often include:\n",
            "- Introduction to Computer Information Systems\n",
            "- Database Management Systems\n",
            "- Systems Analysis and Design\n",
            "- Networking and Telecommunications\n",
            "- Web Development\n",
            "- Information Security\n",
            "- Project Management\n",
            "\n",
            "### Concentrations\n",
            "Common concentrations within a Computer Information Systems program may include:\n",
            "- Data Analytics\n",
            "- Cybersecurity\n",
            "- Software Development\n",
            "- Network Administration\n",
            "- Business Intelligence\n",
            "\n",
            "### Career Opportunities\n",
            "Graduates of a Computer Information Systems program typically pursue careers such as:\n",
            "- Systems Analyst\n",
            "- Database Administrator\n",
            "- Network Administrator\n",
            "- IT Project Manager\n",
            "- Software Developer\n",
            "- Information Security Analyst\n",
            "- Business Analyst\n",
            "\n",
            "For the most accurate and detailed information, I recommend checking Texas State University's official website or contacting the McCoy College of Business Administration directly. Would you like me to look for more specific information?\n"
          ]
        }
      ]
    },
    {
      "cell_type": "code",
      "source": [
        "response = agent_executor.run(\"What is the capital of France?\")\n",
        "print(response)\n"
      ],
      "metadata": {
        "colab": {
          "base_uri": "https://localhost:8080/"
        },
        "id": "ljomxhqrq_8p",
        "outputId": "451083c6-7947-4918-ade4-ffab0ac2a58a"
      },
      "execution_count": 49,
      "outputs": [
        {
          "output_type": "stream",
          "name": "stdout",
          "text": [
            "\n",
            "\n",
            "\u001b[1m> Entering new AgentExecutor chain...\u001b[0m\n",
            "\u001b[32;1m\u001b[1;3mThe capital of France is Paris.\u001b[0m\n",
            "\n",
            "\u001b[1m> Finished chain.\u001b[0m\n",
            "The capital of France is Paris.\n"
          ]
        }
      ]
    },
    {
      "cell_type": "code",
      "source": [
        "print(memory.buffer)\n"
      ],
      "metadata": {
        "colab": {
          "base_uri": "https://localhost:8080/"
        },
        "id": "zZC5hJ9jrFTH",
        "outputId": "b3b66190-cae5-4895-db0e-a97495db3052"
      },
      "execution_count": 50,
      "outputs": [
        {
          "output_type": "stream",
          "name": "stdout",
          "text": [
            "Human: Can you provide details about the Computer Information Systems program at Texas State University, including available concentrations?\n",
            "AI: It seems that I wasn't able to retrieve specific details about the Computer Information Systems program at Texas State University, including its concentrations. However, I can provide a general overview based on typical offerings in such programs.\n",
            "\n",
            "The Computer Information Systems (CIS) program at Texas State University usually focuses on the intersection of business and technology, preparing students for careers in information technology and systems management. Common concentrations within CIS programs may include:\n",
            "\n",
            "1. **Data Analytics**: Focuses on data analysis, data mining, and business intelligence.\n",
            "2. **Cybersecurity**: Concentrates on protecting information systems from cyber threats.\n",
            "3. **Software Development**: Emphasizes programming, software engineering, and application development.\n",
            "4. **Network Administration**: Covers the management and maintenance of computer networks.\n",
            "\n",
            "For the most accurate and detailed information, including specific concentrations and course offerings, I recommend checking the official Texas State University website or contacting the McCoy College of Business directly.\n",
            "Human: What are the core courses, concentrations, and career opportunities available for students in the Computer Information Systems program at Texas State University?\n",
            "AI: The information I retrieved did not provide specific details about the core courses, concentrations, and career opportunities for the Computer Information Systems program at Texas State University. However, I can summarize what is typically included in such programs.\n",
            "\n",
            "### Core Courses\n",
            "In a Computer Information Systems program, core courses often include:\n",
            "- Introduction to Computer Information Systems\n",
            "- Database Management Systems\n",
            "- Systems Analysis and Design\n",
            "- Networking and Telecommunications\n",
            "- Web Development\n",
            "- Information Security\n",
            "- Project Management\n",
            "\n",
            "### Concentrations\n",
            "Common concentrations within a Computer Information Systems program may include:\n",
            "- Data Analytics\n",
            "- Cybersecurity\n",
            "- Software Development\n",
            "- Network Administration\n",
            "- Business Intelligence\n",
            "\n",
            "### Career Opportunities\n",
            "Graduates of a Computer Information Systems program typically pursue careers such as:\n",
            "- Systems Analyst\n",
            "- Database Administrator\n",
            "- Network Administrator\n",
            "- IT Project Manager\n",
            "- Software Developer\n",
            "- Information Security Analyst\n",
            "- Business Analyst\n",
            "\n",
            "For the most accurate and detailed information, I recommend checking Texas State University's official website or contacting the McCoy College of Business Administration directly. Would you like me to look for more specific information?\n",
            "Human: What is the capital of France?\n",
            "AI: The capital of France is Paris.\n"
          ]
        }
      ]
    }
  ]
}